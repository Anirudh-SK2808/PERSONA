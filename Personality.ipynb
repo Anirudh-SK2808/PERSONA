{
  "nbformat": 4,
  "nbformat_minor": 0,
  "metadata": {
    "colab": {
      "provenance": [],
      "authorship_tag": "ABX9TyOWg3q6MTrz+yKNQv8f18kH",
      "include_colab_link": true
    },
    "kernelspec": {
      "name": "python3",
      "display_name": "Python 3"
    },
    "language_info": {
      "name": "python"
    }
  },
  "cells": [
    {
      "cell_type": "markdown",
      "metadata": {
        "id": "view-in-github",
        "colab_type": "text"
      },
      "source": [
        "<a href=\"https://colab.research.google.com/github/Anirudh-SK2808/PERSONA/blob/main/Personality.ipynb\" target=\"_parent\"><img src=\"https://colab.research.google.com/assets/colab-badge.svg\" alt=\"Open In Colab\"/></a>"
      ]
    },
    {
      "cell_type": "code",
      "source": [
        "# ✅ Install Required Libraries\n",
        "!pip install librosa numpy tqdm --quiet\n",
        "\n",
        "# ✅ Imports\n",
        "import os\n",
        "import librosa\n",
        "import numpy as np\n",
        "from tqdm import tqdm\n",
        "\n",
        "# ✅ Paths (change if needed)\n",
        "base_path = \"/content/drive/MyDrive/datasets\"\n",
        "ravdess_path = os.path.join(base_path, \"Audio_Speech_Actors_01-24\")\n",
        "savee_path = os.path.join(base_path, \"ALL\")\n",
        "tess_path = os.path.join(base_path, \"dataverse_files\")\n",
        "\n",
        "# ✅ Trait mapping from emotions\n",
        "label_map = {\n",
        "    'angry':     ['High', 'High', 'Clear', 'Assertive Leader'],\n",
        "    'disgust':   ['Low', 'Low', 'Slurred', 'Critical Analyzer'],\n",
        "    'fear':      ['Low', 'Medium', 'Rushed', 'Cautious Planner'],\n",
        "    'happy':     ['High', 'High', 'Clear', 'Energetic Doer'],\n",
        "    'sad':       ['Low', 'Low', 'Slurred', 'Reflective Introvert'],\n",
        "    'calm':      ['Medium', 'Low', 'Clear', 'Calm Strategist'],\n",
        "    'neutral':   ['Medium', 'Medium', 'Clear', 'Balanced Thinker'],\n",
        "    'surprise':  ['High', 'High', 'Rushed', 'Expressive Idealist']\n",
        "}\n",
        "\n",
        "# ✅ Feature extractor\n",
        "def extract_features(file_path, max_pad_len=174):\n",
        "    try:\n",
        "        audio, sr = librosa.load(file_path, sr=None)\n",
        "        mfcc = librosa.feature.mfcc(y=audio, sr=sr, n_mfcc=40)\n",
        "        chroma = librosa.feature.chroma_stft(y=audio, sr=sr)\n",
        "        contrast = librosa.feature.spectral_contrast(y=audio, sr=sr)\n",
        "        delta = librosa.feature.delta(mfcc)\n",
        "        def pad(x): return np.pad(x, ((0, 0), (0, max(0, max_pad_len - x.shape[1]))), mode='constant')[:, :max_pad_len]\n",
        "        return np.vstack([pad(mfcc), pad(chroma), pad(contrast), pad(delta)])\n",
        "    except Exception as e:\n",
        "        print(f\"Error processing {file_path}: {e}\")\n",
        "        return None\n",
        "\n",
        "# ✅ Emotion extractors\n",
        "def extract_emotion_ravdess(filename):\n",
        "    return {\n",
        "        '01': 'neutral', '02': 'calm', '03': 'happy', '04': 'sad',\n",
        "        '05': 'angry', '06': 'fear', '07': 'disgust', '08': 'surprise'\n",
        "    }.get(filename.split(\"-\")[2])\n",
        "\n",
        "def extract_emotion_savee(filename):\n",
        "    return {\n",
        "        'an': 'angry', 'di': 'disgust', 'fe': 'fear',\n",
        "        'ha': 'happy', 'sa': 'sad', 'su': 'surprise', 'ne': 'neutral'\n",
        "    }.get(filename[5:7].lower())\n",
        "\n",
        "def extract_emotion_tess(filename):\n",
        "    for key in label_map:\n",
        "        if key in filename.lower():\n",
        "            return key\n",
        "    return None\n",
        "\n",
        "# ✅ Load datasets\n",
        "X, y_conf, y_energy, y_clarity, y_persona = [], [], [], [], []\n",
        "\n",
        "def load_dataset(path, extractor, check_in_name=False):\n",
        "    for root, _, files in os.walk(path):\n",
        "        for file in tqdm(files, desc=f\"Processing {os.path.basename(path)}\"):\n",
        "            if file.endswith(\".wav\"):\n",
        "                emotion = extractor(file if check_in_name else os.path.basename(file))\n",
        "                if emotion in label_map:\n",
        "                    full_path = os.path.join(root, file)\n",
        "                    features = extract_features(full_path)\n",
        "                    if features is not None:\n",
        "                        traits = label_map[emotion]\n",
        "                        X.append(features)\n",
        "                        y_conf.append(traits[0])\n",
        "                        y_energy.append(traits[1])\n",
        "                        y_clarity.append(traits[2])\n",
        "                        y_persona.append(traits[3])\n",
        "\n",
        "# ✅ Run extraction\n",
        "load_dataset(ravdess_path, extract_emotion_ravdess)\n",
        "load_dataset(savee_path, extract_emotion_savee)\n",
        "load_dataset(tess_path, extract_emotion_tess, check_in_name=True)\n",
        "\n",
        "# ✅ Save extracted data\n",
        "np.save(\"X_features.npy\", np.array(X))\n",
        "np.save(\"y_conf.npy\", np.array(y_conf))\n",
        "np.save(\"y_energy.npy\", np.array(y_energy))\n",
        "np.save(\"y_clarity.npy\", np.array(y_clarity))\n",
        "np.save(\"y_persona.npy\", np.array(y_persona))\n",
        "\n",
        "print(f\"✅ Saved {len(X)} samples.\")"
      ],
      "metadata": {
        "colab": {
          "base_uri": "https://localhost:8080/"
        },
        "id": "OA_AWwsL9T5B",
        "outputId": "b5d280e0-572a-4d41-b42f-7acdb594b209"
      },
      "execution_count": null,
      "outputs": [
        {
          "output_type": "stream",
          "name": "stderr",
          "text": [
            "Processing Audio_Speech_Actors_01-24: 0it [00:00, ?it/s]\n",
            "Processing Audio_Speech_Actors_01-24: 100%|██████████| 60/60 [00:05<00:00, 11.01it/s]\n",
            "Processing Audio_Speech_Actors_01-24: 100%|██████████| 60/60 [00:07<00:00,  7.58it/s]\n",
            "Processing Audio_Speech_Actors_01-24: 100%|██████████| 60/60 [00:05<00:00, 10.94it/s]\n",
            "Processing Audio_Speech_Actors_01-24: 100%|██████████| 60/60 [00:08<00:00,  7.45it/s]\n",
            "Processing Audio_Speech_Actors_01-24: 100%|██████████| 60/60 [00:05<00:00, 11.09it/s]\n",
            "Processing Audio_Speech_Actors_01-24: 100%|██████████| 60/60 [00:07<00:00,  7.94it/s]\n",
            "Processing Audio_Speech_Actors_01-24: 100%|██████████| 60/60 [00:05<00:00, 10.23it/s]\n",
            "Processing Audio_Speech_Actors_01-24: 100%|██████████| 60/60 [00:05<00:00, 10.17it/s]\n",
            "Processing Audio_Speech_Actors_01-24: 100%|██████████| 60/60 [00:07<00:00,  7.85it/s]\n",
            "Processing Audio_Speech_Actors_01-24: 100%|██████████| 60/60 [00:05<00:00, 11.20it/s]\n",
            "Processing Audio_Speech_Actors_01-24: 100%|██████████| 60/60 [00:08<00:00,  7.37it/s]\n",
            "Processing Audio_Speech_Actors_01-24: 100%|██████████| 60/60 [00:08<00:00,  6.82it/s]\n",
            "Processing Audio_Speech_Actors_01-24: 100%|██████████| 60/60 [00:07<00:00,  7.85it/s]\n",
            "Processing Audio_Speech_Actors_01-24: 100%|██████████| 60/60 [00:05<00:00, 10.65it/s]\n",
            "Processing Audio_Speech_Actors_01-24: 100%|██████████| 60/60 [00:08<00:00,  7.31it/s]\n",
            "Processing Audio_Speech_Actors_01-24: 100%|██████████| 60/60 [00:05<00:00, 11.96it/s]\n",
            "Processing Audio_Speech_Actors_01-24: 100%|██████████| 60/60 [00:07<00:00,  7.58it/s]\n",
            "Processing Audio_Speech_Actors_01-24: 100%|██████████| 60/60 [00:06<00:00,  9.67it/s]\n",
            "Processing Audio_Speech_Actors_01-24: 100%|██████████| 60/60 [00:07<00:00,  7.57it/s]\n",
            "Processing Audio_Speech_Actors_01-24: 100%|██████████| 60/60 [00:05<00:00, 10.97it/s]\n",
            "Processing Audio_Speech_Actors_01-24: 100%|██████████| 60/60 [00:06<00:00,  8.77it/s]\n",
            "Processing Audio_Speech_Actors_01-24: 100%|██████████| 60/60 [00:06<00:00,  8.78it/s]\n",
            "Processing Audio_Speech_Actors_01-24: 100%|██████████| 60/60 [00:05<00:00, 10.86it/s]\n",
            "Processing Audio_Speech_Actors_01-24: 100%|██████████| 60/60 [00:08<00:00,  7.35it/s]\n",
            "Processing ALL: 100%|██████████| 490/490 [00:00<00:00, 284104.09it/s]\n",
            "Processing dataverse_files: 100%|██████████| 11/11 [00:00<00:00, 31.72it/s]\n"
          ]
        },
        {
          "output_type": "stream",
          "name": "stdout",
          "text": [
            "✅ Saved 1449 samples.\n"
          ]
        }
      ]
    },
    {
      "cell_type": "code",
      "source": [],
      "metadata": {
        "id": "zpk3oWk3yj-u"
      },
      "execution_count": null,
      "outputs": []
    },
    {
      "cell_type": "code",
      "source": [
        "# ✅ Install required packages\n",
        "!pip install matplotlib scikit-learn tensorflow --quiet\n",
        "\n",
        "# ✅ Imports\n",
        "import numpy as np\n",
        "import pickle\n",
        "import matplotlib.pyplot as plt\n",
        "from sklearn.preprocessing import LabelEncoder\n",
        "from sklearn.model_selection import train_test_split\n",
        "from tensorflow.keras.models import Model\n",
        "from tensorflow.keras.layers import Input, Conv2D, MaxPooling2D, Flatten, Dense, Dropout, BatchNormalization\n",
        "from tensorflow.keras.callbacks import EarlyStopping, ModelCheckpoint\n",
        "\n",
        "# ✅ Load features and labels\n",
        "X = np.load(\"X_features.npy\")\n",
        "y_conf = np.load(\"y_conf.npy\")\n",
        "y_energy = np.load(\"y_energy.npy\")\n",
        "y_clarity = np.load(\"y_clarity.npy\")\n",
        "y_persona = np.load(\"y_persona.npy\")\n",
        "\n",
        "# ✅ Reshape X and encode labels\n",
        "X = X[..., np.newaxis]  # Add channel dimension\n",
        "le_conf = LabelEncoder(); y_conf = le_conf.fit_transform(y_conf)\n",
        "le_energy = LabelEncoder(); y_energy = le_energy.fit_transform(y_energy)\n",
        "le_clarity = LabelEncoder(); y_clarity = le_clarity.fit_transform(y_clarity)\n",
        "le_persona = LabelEncoder(); y_persona = le_persona.fit_transform(y_persona)\n",
        "\n",
        "# ✅ Train/test split\n",
        "y_all = list(zip(y_conf, y_energy, y_clarity, y_persona))\n",
        "X_train, X_test, y_train, y_test = train_test_split(X, y_all, test_size=0.2, stratify=y_conf, random_state=42)\n",
        "y_train_split = list(zip(*y_train))\n",
        "y_test_split = list(zip(*y_test))\n",
        "\n",
        "# ✅ Build CNN model\n",
        "input_layer = Input(shape=X.shape[1:])\n",
        "x = Conv2D(64, (3, 3), activation='relu', padding='same')(input_layer)\n",
        "x = BatchNormalization()(x)\n",
        "x = MaxPooling2D((2, 2))(x)\n",
        "x = Conv2D(128, (3, 3), activation='relu', padding='same')(x)\n",
        "x = BatchNormalization()(x)\n",
        "x = MaxPooling2D((2, 2))(x)\n",
        "x = Flatten()(x)\n",
        "x = Dense(256, activation='relu')(x)\n",
        "x = Dropout(0.4)(x)\n",
        "\n",
        "# Outputs\n",
        "out_conf = Dense(len(le_conf.classes_), activation='softmax', name='confidence')(x)\n",
        "out_energy = Dense(len(le_energy.classes_), activation='softmax', name='energy')(x)\n",
        "out_clarity = Dense(len(le_clarity.classes_), activation='softmax', name='clarity')(x)\n",
        "out_persona = Dense(len(le_persona.classes_), activation='softmax', name='persona')(x)\n",
        "\n",
        "model = Model(inputs=input_layer, outputs=[out_conf, out_energy, out_clarity, out_persona])\n",
        "model.compile(\n",
        "    optimizer='adam',\n",
        "        loss='sparse_categorical_crossentropy',\n",
        "            metrics={\n",
        "                    'confidence': 'accuracy',\n",
        "                            'energy': 'accuracy',\n",
        "                                    'clarity': 'accuracy',\n",
        "                                            'persona': 'accuracy'\n",
        "                                                }\n",
        "                                                )\n",
        "                                                model.summary()\n",
        "\n",
        "                                                # ✅ Train model\n",
        "                                                callbacks = [\n",
        "                                                    EarlyStopping(monitor='val_loss', patience=5, restore_best_weights=True),\n",
        "                                                        ModelCheckpoint(\"persona_model_best.h5\", save_best_only=True)\n",
        "                                                        ]\n",
        "\n",
        "                                                        history = model.fit(\n",
        "                                                            X_train, y_train_split,\n",
        "                                                                validation_data=(X_test, y_test_split),\n",
        "                                                                    epochs=50,\n",
        "                                                                        batch_size=32,\n",
        "                                                                            callbacks=callbacks\n",
        "                                                                            )\n",
        "\n",
        "                                                                            # ✅ Save model and encoders\n",
        "                                                                            model.save(\"persona_model_final.h5\")\n",
        "                                                                            with open(\"encoders.pkl\", \"wb\") as f:\n",
        "                                                                                pickle.dump((le_conf, le_energy, le_clarity, le_persona), f)\n",
        "\n",
        "                                                                                # ✅ Evaluate\n",
        "                                                                                loss, acc_conf, acc_energy, acc_clarity, acc_persona = model.evaluate(X_test, y_test_split)\n",
        "                                                                                print(\"\\n🌟 Test Accuracies:\")\n",
        "                                                                                print(f\"   Confidence: {acc_conf:.2f}\")\n",
        "                                                                                print(f\"   Energy:     {acc_energy:.2f}\")\n",
        "                                                                                print(f\"   Clarity:    {acc_clarity:.2f}\")\n",
        "                                                                                print(f\"   Persona:    {acc_persona:.2f}\")\n",
        "\n",
        "                                                                                # ✅ Plot confidence accuracy\n",
        "                                                                                plt.plot(history.history['confidence_accuracy'], label='Train')\n",
        "                                                                                plt.plot(history.history['val_confidence_accuracy'], label='Val')\n",
        "                                                                                plt.title(\"Confidence Accuracy\")\n",
        "                                                                                plt.xlabel(\"Epochs\")\n",
        "                                                                                plt.ylabel(\"Accuracy\")\n",
        "                                                                                plt.legend()\n",
        "                                                                                plt.grid()\n",
        "                                                                                plt.show()\n"
      ],
      "metadata": {
        "colab": {
          "base_uri": "https://localhost:8080/",
          "height": 106
        },
        "id": "YM_yWk4H-8m2",
        "outputId": "1e53e669-c074-4801-951f-a3f5ab320d3b"
      },
      "execution_count": null,
      "outputs": [
        {
          "output_type": "error",
          "ename": "IndentationError",
          "evalue": "unexpected indent (ipython-input-6-329615692.py, line 63)",
          "traceback": [
            "\u001b[0;36m  File \u001b[0;32m\"/tmp/ipython-input-6-329615692.py\"\u001b[0;36m, line \u001b[0;32m63\u001b[0m\n\u001b[0;31m    model.summary()\u001b[0m\n\u001b[0m    ^\u001b[0m\n\u001b[0;31mIndentationError\u001b[0m\u001b[0;31m:\u001b[0m unexpected indent\n"
          ]
        }
      ]
    },
    {
      "cell_type": "code",
      "metadata": {
        "colab": {
          "base_uri": "https://localhost:8080/",
          "height": 1000
        },
        "id": "nVN6wv0J-TEj",
        "outputId": "0c1d0d80-cff3-48fb-9374-d50bc3546cf5"
      },
      "source": [
        "# ✅ Install required packages (only needed in Colab)\n",
        "!pip install matplotlib scikit-learn tensorflow --quiet\n",
        "\n",
        "# ✅ Imports\n",
        "import numpy as np\n",
        "import pickle\n",
        "import matplotlib.pyplot as plt\n",
        "from sklearn.preprocessing import LabelEncoder\n",
        "from sklearn.model_selection import train_test_split\n",
        "from tensorflow.keras.models import Model\n",
        "from tensorflow.keras.layers import Input, Conv2D, MaxPooling2D, Flatten, Dense, Dropout, BatchNormalization\n",
        "from tensorflow.keras.callbacks import EarlyStopping, ModelCheckpoint\n",
        "\n",
        "# ✅ Load features and labels\n",
        "X = np.load(\"X_features.npy\")\n",
        "y_conf = np.load(\"y_conf.npy\")\n",
        "y_energy = np.load(\"y_energy.npy\")\n",
        "y_clarity = np.load(\"y_clarity.npy\")\n",
        "y_persona = np.load(\"y_persona.npy\")\n",
        "\n",
        "# ✅ Reshape X and encode labels\n",
        "X = X[..., np.newaxis]  # (N, 99, 174, 1)\n",
        "le_conf = LabelEncoder()\n",
        "y_conf = le_conf.fit_transform(y_conf)\n",
        "le_energy = LabelEncoder()\n",
        "y_energy = le_energy.fit_transform(y_energy)\n",
        "le_clarity = LabelEncoder()\n",
        "y_clarity = le_clarity.fit_transform(y_clarity)\n",
        "le_persona = LabelEncoder()\n",
        "y_persona = le_persona.fit_transform(y_persona)\n",
        "\n",
        "# ✅ Split dataset\n",
        "y_all = list(zip(y_conf, y_energy, y_clarity, y_persona))\n",
        "X_train, X_test, y_train, y_test = train_test_split(\n",
        "    X, y_all, test_size=0.2, stratify=y_conf, random_state=42\n",
        ")\n",
        "\n",
        "# ✅ Unzip for multi-output model\n",
        "y_train_split = tuple(np.array(t) for t in zip(*y_train))\n",
        "y_test_split = tuple(np.array(t) for t in zip(*y_test))\n",
        "\n",
        "# ✅ Build model\n",
        "input_layer = Input(shape=X.shape[1:])\n",
        "x = Conv2D(64, (3, 3), activation='relu', padding='same')(input_layer)\n",
        "x = BatchNormalization()(x)\n",
        "x = MaxPooling2D((2, 2))(x)\n",
        "x = Conv2D(128, (3, 3), activation='relu', padding='same')(x)\n",
        "x = BatchNormalization()(x)\n",
        "x = MaxPooling2D((2, 2))(x)\n",
        "x = Flatten()(x)\n",
        "x = Dense(256, activation='relu')(x)\n",
        "x = Dropout(0.4)(x)\n",
        "\n",
        "out_conf = Dense(len(le_conf.classes_), activation='softmax', name='confidence')(x)\n",
        "out_energy = Dense(len(le_energy.classes_), activation='softmax', name='energy')(x)\n",
        "out_clarity = Dense(len(le_clarity.classes_), activation='softmax', name='clarity')(x)\n",
        "out_persona = Dense(len(le_persona.classes_), activation='softmax', name='persona')(x)\n",
        "\n",
        "model = Model(inputs=input_layer, outputs=[out_conf, out_energy, out_clarity, out_persona])\n",
        "model.compile(optimizer='adam', loss='sparse_categorical_crossentropy', metrics=['accuracy', 'accuracy', 'accuracy', 'accuracy'])\n",
        "model.summary()\n",
        "\n",
        "# ✅ Train\n",
        "callbacks = [\n",
        "    EarlyStopping(monitor='val_loss', patience=5, restore_best_weights=True),\n",
        "    ModelCheckpoint(\"persona_model_best.h5\", save_best_only=True)\n",
        "]\n",
        "\n",
        "history = model.fit(\n",
        "    X_train, y_train_split,\n",
        "    validation_data=(X_test, y_test_split),\n",
        "    epochs=50,\n",
        "    batch_size=32,\n",
        "    callbacks=callbacks\n",
        ")\n",
        "\n",
        "# ✅ Save model and encoders\n",
        "model.save(\"persona_model_final.h5\")\n",
        "with open(\"encoders.pkl\", \"wb\") as f:\n",
        "    pickle.dump((le_conf, le_energy, le_clarity, le_persona), f)\n",
        "\n",
        "# ✅ Evaluate\n",
        "loss, acc_conf, acc_energy, acc_clarity, acc_persona = model.evaluate(X_test, y_test_split)\n",
        "print(\"\\n🎯 Test Accuracies:\")\n",
        "print(f\"   Confidence: {acc_conf:.2f}\")\n",
        "print(f\"   Energy:     {acc_energy:.2f}\")\n",
        "print(f\"   Clarity:    {acc_clarity:.2f}\")\n",
        "print(f\"   Persona:    {acc_persona:.2f}\")\n",
        "\n",
        "# ✅ Plot accuracy of one output (confidence)\n",
        "plt.plot(history.history['confidence_accuracy'], label='Train')\n",
        "plt.plot(history.history['val_confidence_accuracy'], label='Val')\n",
        "plt.title(\"Confidence Accuracy Over Epochs\")\n",
        "plt.xlabel(\"Epochs\")\n",
        "plt.ylabel(\"Accuracy\")\n",
        "plt.legend()\n",
        "plt.grid(True)\n",
        "plt.show()"
      ],
      "execution_count": null,
      "outputs": [
        {
          "data": {
            "text/html": [
              "<pre style=\"white-space:pre;overflow-x:auto;line-height:normal;font-family:Menlo,'DejaVu Sans Mono',consolas,'Courier New',monospace\"><span style=\"font-weight: bold\">Model: \"functional_1\"</span>\n",
              "</pre>\n"
            ],
            "text/plain": [
              "\u001b[1mModel: \"functional_1\"\u001b[0m\n"
            ]
          },
          "metadata": {},
          "output_type": "display_data"
        },
        {
          "data": {
            "text/html": [
              "<pre style=\"white-space:pre;overflow-x:auto;line-height:normal;font-family:Menlo,'DejaVu Sans Mono',consolas,'Courier New',monospace\">┏━━━━━━━━━━━━━━━━━━━━━┳━━━━━━━━━━━━━━━━━━━┳━━━━━━━━━━━━┳━━━━━━━━━━━━━━━━━━━┓\n",
              "┃<span style=\"font-weight: bold\"> Layer (type)        </span>┃<span style=\"font-weight: bold\"> Output Shape      </span>┃<span style=\"font-weight: bold\">    Param # </span>┃<span style=\"font-weight: bold\"> Connected to      </span>┃\n",
              "┡━━━━━━━━━━━━━━━━━━━━━╇━━━━━━━━━━━━━━━━━━━╇━━━━━━━━━━━━╇━━━━━━━━━━━━━━━━━━━┩\n",
              "│ input_layer_1       │ (<span style=\"color: #00d7ff; text-decoration-color: #00d7ff\">None</span>, <span style=\"color: #00af00; text-decoration-color: #00af00\">99</span>, <span style=\"color: #00af00; text-decoration-color: #00af00\">174</span>,   │          <span style=\"color: #00af00; text-decoration-color: #00af00\">0</span> │ -                 │\n",
              "│ (<span style=\"color: #0087ff; text-decoration-color: #0087ff\">InputLayer</span>)        │ <span style=\"color: #00af00; text-decoration-color: #00af00\">1</span>)                │            │                   │\n",
              "├─────────────────────┼───────────────────┼────────────┼───────────────────┤\n",
              "│ conv2d_2 (<span style=\"color: #0087ff; text-decoration-color: #0087ff\">Conv2D</span>)   │ (<span style=\"color: #00d7ff; text-decoration-color: #00d7ff\">None</span>, <span style=\"color: #00af00; text-decoration-color: #00af00\">99</span>, <span style=\"color: #00af00; text-decoration-color: #00af00\">174</span>,   │        <span style=\"color: #00af00; text-decoration-color: #00af00\">640</span> │ input_layer_1[<span style=\"color: #00af00; text-decoration-color: #00af00\">0</span>]… │\n",
              "│                     │ <span style=\"color: #00af00; text-decoration-color: #00af00\">64</span>)               │            │                   │\n",
              "├─────────────────────┼───────────────────┼────────────┼───────────────────┤\n",
              "│ batch_normalizatio… │ (<span style=\"color: #00d7ff; text-decoration-color: #00d7ff\">None</span>, <span style=\"color: #00af00; text-decoration-color: #00af00\">99</span>, <span style=\"color: #00af00; text-decoration-color: #00af00\">174</span>,   │        <span style=\"color: #00af00; text-decoration-color: #00af00\">256</span> │ conv2d_2[<span style=\"color: #00af00; text-decoration-color: #00af00\">0</span>][<span style=\"color: #00af00; text-decoration-color: #00af00\">0</span>]    │\n",
              "│ (<span style=\"color: #0087ff; text-decoration-color: #0087ff\">BatchNormalizatio…</span> │ <span style=\"color: #00af00; text-decoration-color: #00af00\">64</span>)               │            │                   │\n",
              "├─────────────────────┼───────────────────┼────────────┼───────────────────┤\n",
              "│ max_pooling2d_2     │ (<span style=\"color: #00d7ff; text-decoration-color: #00d7ff\">None</span>, <span style=\"color: #00af00; text-decoration-color: #00af00\">49</span>, <span style=\"color: #00af00; text-decoration-color: #00af00\">87</span>,    │          <span style=\"color: #00af00; text-decoration-color: #00af00\">0</span> │ batch_normalizat… │\n",
              "│ (<span style=\"color: #0087ff; text-decoration-color: #0087ff\">MaxPooling2D</span>)      │ <span style=\"color: #00af00; text-decoration-color: #00af00\">64</span>)               │            │                   │\n",
              "├─────────────────────┼───────────────────┼────────────┼───────────────────┤\n",
              "│ conv2d_3 (<span style=\"color: #0087ff; text-decoration-color: #0087ff\">Conv2D</span>)   │ (<span style=\"color: #00d7ff; text-decoration-color: #00d7ff\">None</span>, <span style=\"color: #00af00; text-decoration-color: #00af00\">49</span>, <span style=\"color: #00af00; text-decoration-color: #00af00\">87</span>,    │     <span style=\"color: #00af00; text-decoration-color: #00af00\">73,856</span> │ max_pooling2d_2[<span style=\"color: #00af00; text-decoration-color: #00af00\">…</span> │\n",
              "│                     │ <span style=\"color: #00af00; text-decoration-color: #00af00\">128</span>)              │            │                   │\n",
              "├─────────────────────┼───────────────────┼────────────┼───────────────────┤\n",
              "│ batch_normalizatio… │ (<span style=\"color: #00d7ff; text-decoration-color: #00d7ff\">None</span>, <span style=\"color: #00af00; text-decoration-color: #00af00\">49</span>, <span style=\"color: #00af00; text-decoration-color: #00af00\">87</span>,    │        <span style=\"color: #00af00; text-decoration-color: #00af00\">512</span> │ conv2d_3[<span style=\"color: #00af00; text-decoration-color: #00af00\">0</span>][<span style=\"color: #00af00; text-decoration-color: #00af00\">0</span>]    │\n",
              "│ (<span style=\"color: #0087ff; text-decoration-color: #0087ff\">BatchNormalizatio…</span> │ <span style=\"color: #00af00; text-decoration-color: #00af00\">128</span>)              │            │                   │\n",
              "├─────────────────────┼───────────────────┼────────────┼───────────────────┤\n",
              "│ max_pooling2d_3     │ (<span style=\"color: #00d7ff; text-decoration-color: #00d7ff\">None</span>, <span style=\"color: #00af00; text-decoration-color: #00af00\">24</span>, <span style=\"color: #00af00; text-decoration-color: #00af00\">43</span>,    │          <span style=\"color: #00af00; text-decoration-color: #00af00\">0</span> │ batch_normalizat… │\n",
              "│ (<span style=\"color: #0087ff; text-decoration-color: #0087ff\">MaxPooling2D</span>)      │ <span style=\"color: #00af00; text-decoration-color: #00af00\">128</span>)              │            │                   │\n",
              "├─────────────────────┼───────────────────┼────────────┼───────────────────┤\n",
              "│ flatten_1 (<span style=\"color: #0087ff; text-decoration-color: #0087ff\">Flatten</span>) │ (<span style=\"color: #00d7ff; text-decoration-color: #00d7ff\">None</span>, <span style=\"color: #00af00; text-decoration-color: #00af00\">132096</span>)    │          <span style=\"color: #00af00; text-decoration-color: #00af00\">0</span> │ max_pooling2d_3[<span style=\"color: #00af00; text-decoration-color: #00af00\">…</span> │\n",
              "├─────────────────────┼───────────────────┼────────────┼───────────────────┤\n",
              "│ dense_1 (<span style=\"color: #0087ff; text-decoration-color: #0087ff\">Dense</span>)     │ (<span style=\"color: #00d7ff; text-decoration-color: #00d7ff\">None</span>, <span style=\"color: #00af00; text-decoration-color: #00af00\">256</span>)       │ <span style=\"color: #00af00; text-decoration-color: #00af00\">33,816,832</span> │ flatten_1[<span style=\"color: #00af00; text-decoration-color: #00af00\">0</span>][<span style=\"color: #00af00; text-decoration-color: #00af00\">0</span>]   │\n",
              "├─────────────────────┼───────────────────┼────────────┼───────────────────┤\n",
              "│ dropout_1 (<span style=\"color: #0087ff; text-decoration-color: #0087ff\">Dropout</span>) │ (<span style=\"color: #00d7ff; text-decoration-color: #00d7ff\">None</span>, <span style=\"color: #00af00; text-decoration-color: #00af00\">256</span>)       │          <span style=\"color: #00af00; text-decoration-color: #00af00\">0</span> │ dense_1[<span style=\"color: #00af00; text-decoration-color: #00af00\">0</span>][<span style=\"color: #00af00; text-decoration-color: #00af00\">0</span>]     │\n",
              "├─────────────────────┼───────────────────┼────────────┼───────────────────┤\n",
              "│ confidence (<span style=\"color: #0087ff; text-decoration-color: #0087ff\">Dense</span>)  │ (<span style=\"color: #00d7ff; text-decoration-color: #00d7ff\">None</span>, <span style=\"color: #00af00; text-decoration-color: #00af00\">3</span>)         │        <span style=\"color: #00af00; text-decoration-color: #00af00\">771</span> │ dropout_1[<span style=\"color: #00af00; text-decoration-color: #00af00\">0</span>][<span style=\"color: #00af00; text-decoration-color: #00af00\">0</span>]   │\n",
              "├─────────────────────┼───────────────────┼────────────┼───────────────────┤\n",
              "│ energy (<span style=\"color: #0087ff; text-decoration-color: #0087ff\">Dense</span>)      │ (<span style=\"color: #00d7ff; text-decoration-color: #00d7ff\">None</span>, <span style=\"color: #00af00; text-decoration-color: #00af00\">3</span>)         │        <span style=\"color: #00af00; text-decoration-color: #00af00\">771</span> │ dropout_1[<span style=\"color: #00af00; text-decoration-color: #00af00\">0</span>][<span style=\"color: #00af00; text-decoration-color: #00af00\">0</span>]   │\n",
              "├─────────────────────┼───────────────────┼────────────┼───────────────────┤\n",
              "│ clarity (<span style=\"color: #0087ff; text-decoration-color: #0087ff\">Dense</span>)     │ (<span style=\"color: #00d7ff; text-decoration-color: #00d7ff\">None</span>, <span style=\"color: #00af00; text-decoration-color: #00af00\">3</span>)         │        <span style=\"color: #00af00; text-decoration-color: #00af00\">771</span> │ dropout_1[<span style=\"color: #00af00; text-decoration-color: #00af00\">0</span>][<span style=\"color: #00af00; text-decoration-color: #00af00\">0</span>]   │\n",
              "├─────────────────────┼───────────────────┼────────────┼───────────────────┤\n",
              "│ persona (<span style=\"color: #0087ff; text-decoration-color: #0087ff\">Dense</span>)     │ (<span style=\"color: #00d7ff; text-decoration-color: #00d7ff\">None</span>, <span style=\"color: #00af00; text-decoration-color: #00af00\">8</span>)         │      <span style=\"color: #00af00; text-decoration-color: #00af00\">2,056</span> │ dropout_1[<span style=\"color: #00af00; text-decoration-color: #00af00\">0</span>][<span style=\"color: #00af00; text-decoration-color: #00af00\">0</span>]   │\n",
              "└─────────────────────┴───────────────────┴────────────┴───────────────────┘\n",
              "</pre>\n"
            ],
            "text/plain": [
              "┏━━━━━━━━━━━━━━━━━━━━━┳━━━━━━━━━━━━━━━━━━━┳━━━━━━━━━━━━┳━━━━━━━━━━━━━━━━━━━┓\n",
              "┃\u001b[1m \u001b[0m\u001b[1mLayer (type)       \u001b[0m\u001b[1m \u001b[0m┃\u001b[1m \u001b[0m\u001b[1mOutput Shape     \u001b[0m\u001b[1m \u001b[0m┃\u001b[1m \u001b[0m\u001b[1m   Param #\u001b[0m\u001b[1m \u001b[0m┃\u001b[1m \u001b[0m\u001b[1mConnected to     \u001b[0m\u001b[1m \u001b[0m┃\n",
              "┡━━━━━━━━━━━━━━━━━━━━━╇━━━━━━━━━━━━━━━━━━━╇━━━━━━━━━━━━╇━━━━━━━━━━━━━━━━━━━┩\n",
              "│ input_layer_1       │ (\u001b[38;5;45mNone\u001b[0m, \u001b[38;5;34m99\u001b[0m, \u001b[38;5;34m174\u001b[0m,   │          \u001b[38;5;34m0\u001b[0m │ -                 │\n",
              "│ (\u001b[38;5;33mInputLayer\u001b[0m)        │ \u001b[38;5;34m1\u001b[0m)                │            │                   │\n",
              "├─────────────────────┼───────────────────┼────────────┼───────────────────┤\n",
              "│ conv2d_2 (\u001b[38;5;33mConv2D\u001b[0m)   │ (\u001b[38;5;45mNone\u001b[0m, \u001b[38;5;34m99\u001b[0m, \u001b[38;5;34m174\u001b[0m,   │        \u001b[38;5;34m640\u001b[0m │ input_layer_1[\u001b[38;5;34m0\u001b[0m]… │\n",
              "│                     │ \u001b[38;5;34m64\u001b[0m)               │            │                   │\n",
              "├─────────────────────┼───────────────────┼────────────┼───────────────────┤\n",
              "│ batch_normalizatio… │ (\u001b[38;5;45mNone\u001b[0m, \u001b[38;5;34m99\u001b[0m, \u001b[38;5;34m174\u001b[0m,   │        \u001b[38;5;34m256\u001b[0m │ conv2d_2[\u001b[38;5;34m0\u001b[0m][\u001b[38;5;34m0\u001b[0m]    │\n",
              "│ (\u001b[38;5;33mBatchNormalizatio…\u001b[0m │ \u001b[38;5;34m64\u001b[0m)               │            │                   │\n",
              "├─────────────────────┼───────────────────┼────────────┼───────────────────┤\n",
              "│ max_pooling2d_2     │ (\u001b[38;5;45mNone\u001b[0m, \u001b[38;5;34m49\u001b[0m, \u001b[38;5;34m87\u001b[0m,    │          \u001b[38;5;34m0\u001b[0m │ batch_normalizat… │\n",
              "│ (\u001b[38;5;33mMaxPooling2D\u001b[0m)      │ \u001b[38;5;34m64\u001b[0m)               │            │                   │\n",
              "├─────────────────────┼───────────────────┼────────────┼───────────────────┤\n",
              "│ conv2d_3 (\u001b[38;5;33mConv2D\u001b[0m)   │ (\u001b[38;5;45mNone\u001b[0m, \u001b[38;5;34m49\u001b[0m, \u001b[38;5;34m87\u001b[0m,    │     \u001b[38;5;34m73,856\u001b[0m │ max_pooling2d_2[\u001b[38;5;34m…\u001b[0m │\n",
              "│                     │ \u001b[38;5;34m128\u001b[0m)              │            │                   │\n",
              "├─────────────────────┼───────────────────┼────────────┼───────────────────┤\n",
              "│ batch_normalizatio… │ (\u001b[38;5;45mNone\u001b[0m, \u001b[38;5;34m49\u001b[0m, \u001b[38;5;34m87\u001b[0m,    │        \u001b[38;5;34m512\u001b[0m │ conv2d_3[\u001b[38;5;34m0\u001b[0m][\u001b[38;5;34m0\u001b[0m]    │\n",
              "│ (\u001b[38;5;33mBatchNormalizatio…\u001b[0m │ \u001b[38;5;34m128\u001b[0m)              │            │                   │\n",
              "├─────────────────────┼───────────────────┼────────────┼───────────────────┤\n",
              "│ max_pooling2d_3     │ (\u001b[38;5;45mNone\u001b[0m, \u001b[38;5;34m24\u001b[0m, \u001b[38;5;34m43\u001b[0m,    │          \u001b[38;5;34m0\u001b[0m │ batch_normalizat… │\n",
              "│ (\u001b[38;5;33mMaxPooling2D\u001b[0m)      │ \u001b[38;5;34m128\u001b[0m)              │            │                   │\n",
              "├─────────────────────┼───────────────────┼────────────┼───────────────────┤\n",
              "│ flatten_1 (\u001b[38;5;33mFlatten\u001b[0m) │ (\u001b[38;5;45mNone\u001b[0m, \u001b[38;5;34m132096\u001b[0m)    │          \u001b[38;5;34m0\u001b[0m │ max_pooling2d_3[\u001b[38;5;34m…\u001b[0m │\n",
              "├─────────────────────┼───────────────────┼────────────┼───────────────────┤\n",
              "│ dense_1 (\u001b[38;5;33mDense\u001b[0m)     │ (\u001b[38;5;45mNone\u001b[0m, \u001b[38;5;34m256\u001b[0m)       │ \u001b[38;5;34m33,816,832\u001b[0m │ flatten_1[\u001b[38;5;34m0\u001b[0m][\u001b[38;5;34m0\u001b[0m]   │\n",
              "├─────────────────────┼───────────────────┼────────────┼───────────────────┤\n",
              "│ dropout_1 (\u001b[38;5;33mDropout\u001b[0m) │ (\u001b[38;5;45mNone\u001b[0m, \u001b[38;5;34m256\u001b[0m)       │          \u001b[38;5;34m0\u001b[0m │ dense_1[\u001b[38;5;34m0\u001b[0m][\u001b[38;5;34m0\u001b[0m]     │\n",
              "├─────────────────────┼───────────────────┼────────────┼───────────────────┤\n",
              "│ confidence (\u001b[38;5;33mDense\u001b[0m)  │ (\u001b[38;5;45mNone\u001b[0m, \u001b[38;5;34m3\u001b[0m)         │        \u001b[38;5;34m771\u001b[0m │ dropout_1[\u001b[38;5;34m0\u001b[0m][\u001b[38;5;34m0\u001b[0m]   │\n",
              "├─────────────────────┼───────────────────┼────────────┼───────────────────┤\n",
              "│ energy (\u001b[38;5;33mDense\u001b[0m)      │ (\u001b[38;5;45mNone\u001b[0m, \u001b[38;5;34m3\u001b[0m)         │        \u001b[38;5;34m771\u001b[0m │ dropout_1[\u001b[38;5;34m0\u001b[0m][\u001b[38;5;34m0\u001b[0m]   │\n",
              "├─────────────────────┼───────────────────┼────────────┼───────────────────┤\n",
              "│ clarity (\u001b[38;5;33mDense\u001b[0m)     │ (\u001b[38;5;45mNone\u001b[0m, \u001b[38;5;34m3\u001b[0m)         │        \u001b[38;5;34m771\u001b[0m │ dropout_1[\u001b[38;5;34m0\u001b[0m][\u001b[38;5;34m0\u001b[0m]   │\n",
              "├─────────────────────┼───────────────────┼────────────┼───────────────────┤\n",
              "│ persona (\u001b[38;5;33mDense\u001b[0m)     │ (\u001b[38;5;45mNone\u001b[0m, \u001b[38;5;34m8\u001b[0m)         │      \u001b[38;5;34m2,056\u001b[0m │ dropout_1[\u001b[38;5;34m0\u001b[0m][\u001b[38;5;34m0\u001b[0m]   │\n",
              "└─────────────────────┴───────────────────┴────────────┴───────────────────┘\n"
            ]
          },
          "metadata": {},
          "output_type": "display_data"
        },
        {
          "data": {
            "text/html": [
              "<pre style=\"white-space:pre;overflow-x:auto;line-height:normal;font-family:Menlo,'DejaVu Sans Mono',consolas,'Courier New',monospace\"><span style=\"font-weight: bold\"> Total params: </span><span style=\"color: #00af00; text-decoration-color: #00af00\">33,896,465</span> (129.30 MB)\n",
              "</pre>\n"
            ],
            "text/plain": [
              "\u001b[1m Total params: \u001b[0m\u001b[38;5;34m33,896,465\u001b[0m (129.30 MB)\n"
            ]
          },
          "metadata": {},
          "output_type": "display_data"
        },
        {
          "data": {
            "text/html": [
              "<pre style=\"white-space:pre;overflow-x:auto;line-height:normal;font-family:Menlo,'DejaVu Sans Mono',consolas,'Courier New',monospace\"><span style=\"font-weight: bold\"> Trainable params: </span><span style=\"color: #00af00; text-decoration-color: #00af00\">33,896,081</span> (129.30 MB)\n",
              "</pre>\n"
            ],
            "text/plain": [
              "\u001b[1m Trainable params: \u001b[0m\u001b[38;5;34m33,896,081\u001b[0m (129.30 MB)\n"
            ]
          },
          "metadata": {},
          "output_type": "display_data"
        },
        {
          "data": {
            "text/html": [
              "<pre style=\"white-space:pre;overflow-x:auto;line-height:normal;font-family:Menlo,'DejaVu Sans Mono',consolas,'Courier New',monospace\"><span style=\"font-weight: bold\"> Non-trainable params: </span><span style=\"color: #00af00; text-decoration-color: #00af00\">384</span> (1.50 KB)\n",
              "</pre>\n"
            ],
            "text/plain": [
              "\u001b[1m Non-trainable params: \u001b[0m\u001b[38;5;34m384\u001b[0m (1.50 KB)\n"
            ]
          },
          "metadata": {},
          "output_type": "display_data"
        },
        {
          "metadata": {
            "tags": null
          },
          "name": "stdout",
          "output_type": "stream",
          "text": [
            "Epoch 1/50\n",
            "\u001b[1m37/37\u001b[0m \u001b[32m━━━━━━━━━━━━━━━━━━━━\u001b[0m\u001b[37m\u001b[0m \u001b[1m0s\u001b[0m 4s/step - clarity_accuracy: 0.3792 - clarity_loss: 24.8420 - confidence_accuracy: 0.3926 - confidence_loss: 25.1848 - energy_accuracy: 0.3717 - energy_loss: 24.5605 - loss: 102.2491 - persona_accuracy: 0.1447 - persona_loss: 27.6385"
          ]
        },
        {
          "metadata": {
            "tags": null
          },
          "name": "stderr",
          "output_type": "stream",
          "text": [
            "WARNING:absl:You are saving your model as an HDF5 file via `model.save()` or `keras.saving.save_model(model)`. This file format is considered legacy. We recommend using instead the native Keras format, e.g. `model.save('my_model.keras')` or `keras.saving.save_model(model, 'my_model.keras')`. \n"
          ]
        },
        {
          "metadata": {
            "tags": null
          },
          "name": "stdout",
          "output_type": "stream",
          "text": [
            "\u001b[1m37/37\u001b[0m \u001b[32m━━━━━━━━━━━━━━━━━━━━\u001b[0m\u001b[37m\u001b[0m \u001b[1m172s\u001b[0m 4s/step - clarity_accuracy: 0.3801 - clarity_loss: 24.4707 - confidence_accuracy: 0.3925 - confidence_loss: 24.8195 - energy_accuracy: 0.3721 - energy_loss: 24.1804 - loss: 100.7713 - persona_accuracy: 0.1447 - persona_loss: 27.2555 - val_clarity_accuracy: 0.4621 - val_clarity_loss: 1.1274 - val_confidence_accuracy: 0.3138 - val_confidence_loss: 1.4578 - val_energy_accuracy: 0.2207 - val_energy_loss: 1.1676 - val_loss: 6.0070 - val_persona_accuracy: 0.1483 - val_persona_loss: 2.2029\n",
            "Epoch 2/50\n",
            "\u001b[1m37/37\u001b[0m \u001b[32m━━━━━━━━━━━━━━━━━━━━\u001b[0m\u001b[37m\u001b[0m \u001b[1m0s\u001b[0m 4s/step - clarity_accuracy: 0.4463 - clarity_loss: 1.1035 - confidence_accuracy: 0.4073 - confidence_loss: 1.1043 - energy_accuracy: 0.4053 - energy_loss: 1.0869 - loss: 5.3892 - persona_accuracy: 0.1363 - persona_loss: 2.0945"
          ]
        },
        {
          "metadata": {
            "tags": null
          },
          "name": "stderr",
          "output_type": "stream",
          "text": [
            "WARNING:absl:You are saving your model as an HDF5 file via `model.save()` or `keras.saving.save_model(model)`. This file format is considered legacy. We recommend using instead the native Keras format, e.g. `model.save('my_model.keras')` or `keras.saving.save_model(model, 'my_model.keras')`. \n"
          ]
        },
        {
          "metadata": {
            "tags": null
          },
          "name": "stdout",
          "output_type": "stream",
          "text": [
            "\u001b[1m37/37\u001b[0m \u001b[32m━━━━━━━━━━━━━━━━━━━━\u001b[0m\u001b[37m\u001b[0m \u001b[1m209s\u001b[0m 5s/step - clarity_accuracy: 0.4469 - clarity_loss: 1.1034 - confidence_accuracy: 0.4071 - confidence_loss: 1.1044 - energy_accuracy: 0.4051 - energy_loss: 1.0870 - loss: 5.3892 - persona_accuracy: 0.1362 - persona_loss: 2.0944 - val_clarity_accuracy: 0.4586 - val_clarity_loss: 1.1069 - val_confidence_accuracy: 0.3966 - val_confidence_loss: 1.1180 - val_energy_accuracy: 0.3655 - val_energy_loss: 1.1019 - val_loss: 5.4022 - val_persona_accuracy: 0.1310 - val_persona_loss: 2.0706\n",
            "Epoch 3/50\n",
            "\u001b[1m37/37\u001b[0m \u001b[32m━━━━━━━━━━━━━━━━━━━━\u001b[0m\u001b[37m\u001b[0m \u001b[1m0s\u001b[0m 4s/step - clarity_accuracy: 0.4871 - clarity_loss: 1.0895 - confidence_accuracy: 0.4103 - confidence_loss: 1.0905 - energy_accuracy: 0.3972 - energy_loss: 1.0902 - loss: 5.3473 - persona_accuracy: 0.1251 - persona_loss: 2.0771"
          ]
        },
        {
          "metadata": {
            "tags": null
          },
          "name": "stderr",
          "output_type": "stream",
          "text": [
            "WARNING:absl:You are saving your model as an HDF5 file via `model.save()` or `keras.saving.save_model(model)`. This file format is considered legacy. We recommend using instead the native Keras format, e.g. `model.save('my_model.keras')` or `keras.saving.save_model(model, 'my_model.keras')`. \n"
          ]
        },
        {
          "metadata": {
            "tags": null
          },
          "name": "stdout",
          "output_type": "stream",
          "text": [
            "\u001b[1m37/37\u001b[0m \u001b[32m━━━━━━━━━━━━━━━━━━━━\u001b[0m\u001b[37m\u001b[0m \u001b[1m164s\u001b[0m 4s/step - clarity_accuracy: 0.4865 - clarity_loss: 1.0895 - confidence_accuracy: 0.4100 - confidence_loss: 1.0905 - energy_accuracy: 0.3970 - energy_loss: 1.0902 - loss: 5.3472 - persona_accuracy: 0.1254 - persona_loss: 2.0771 - val_clarity_accuracy: 0.4586 - val_clarity_loss: 1.0955 - val_confidence_accuracy: 0.3966 - val_confidence_loss: 1.0976 - val_energy_accuracy: 0.3966 - val_energy_loss: 1.0898 - val_loss: 5.3548 - val_persona_accuracy: 0.1310 - val_persona_loss: 2.0706\n",
            "Epoch 4/50\n",
            "\u001b[1m37/37\u001b[0m \u001b[32m━━━━━━━━━━━━━━━━━━━━\u001b[0m\u001b[37m\u001b[0m \u001b[1m0s\u001b[0m 4s/step - clarity_accuracy: 0.4723 - clarity_loss: 1.0859 - confidence_accuracy: 0.3890 - confidence_loss: 1.0872 - energy_accuracy: 0.3820 - energy_loss: 1.0888 - loss: 5.3378 - persona_accuracy: 0.1433 - persona_loss: 2.0758"
          ]
        },
        {
          "metadata": {
            "tags": null
          },
          "name": "stderr",
          "output_type": "stream",
          "text": [
            "WARNING:absl:You are saving your model as an HDF5 file via `model.save()` or `keras.saving.save_model(model)`. This file format is considered legacy. We recommend using instead the native Keras format, e.g. `model.save('my_model.keras')` or `keras.saving.save_model(model, 'my_model.keras')`. \n"
          ]
        },
        {
          "metadata": {
            "tags": null
          },
          "name": "stdout",
          "output_type": "stream",
          "text": [
            "\u001b[1m37/37\u001b[0m \u001b[32m━━━━━━━━━━━━━━━━━━━━\u001b[0m\u001b[37m\u001b[0m \u001b[1m165s\u001b[0m 4s/step - clarity_accuracy: 0.4722 - clarity_loss: 1.0859 - confidence_accuracy: 0.3893 - confidence_loss: 1.0872 - energy_accuracy: 0.3819 - energy_loss: 1.0889 - loss: 5.3380 - persona_accuracy: 0.1432 - persona_loss: 2.0759 - val_clarity_accuracy: 0.4586 - val_clarity_loss: 1.0860 - val_confidence_accuracy: 0.3966 - val_confidence_loss: 1.0896 - val_energy_accuracy: 0.3966 - val_energy_loss: 1.0825 - val_loss: 5.3299 - val_persona_accuracy: 0.1310 - val_persona_loss: 2.0717\n",
            "Epoch 5/50\n",
            "\u001b[1m37/37\u001b[0m \u001b[32m━━━━━━━━━━━━━━━━━━━━\u001b[0m\u001b[37m\u001b[0m \u001b[1m0s\u001b[0m 4s/step - clarity_accuracy: 0.4541 - clarity_loss: 1.0840 - confidence_accuracy: 0.3929 - confidence_loss: 1.0801 - energy_accuracy: 0.3956 - energy_loss: 1.0814 - loss: 5.3191 - persona_accuracy: 0.1344 - persona_loss: 2.0737"
          ]
        },
        {
          "metadata": {
            "tags": null
          },
          "name": "stderr",
          "output_type": "stream",
          "text": [
            "WARNING:absl:You are saving your model as an HDF5 file via `model.save()` or `keras.saving.save_model(model)`. This file format is considered legacy. We recommend using instead the native Keras format, e.g. `model.save('my_model.keras')` or `keras.saving.save_model(model, 'my_model.keras')`. \n"
          ]
        },
        {
          "metadata": {
            "tags": null
          },
          "name": "stdout",
          "output_type": "stream",
          "text": [
            "\u001b[1m37/37\u001b[0m \u001b[32m━━━━━━━━━━━━━━━━━━━━\u001b[0m\u001b[37m\u001b[0m \u001b[1m171s\u001b[0m 5s/step - clarity_accuracy: 0.4544 - clarity_loss: 1.0839 - confidence_accuracy: 0.3930 - confidence_loss: 1.0801 - energy_accuracy: 0.3956 - energy_loss: 1.0814 - loss: 5.3191 - persona_accuracy: 0.1344 - persona_loss: 2.0737 - val_clarity_accuracy: 0.4586 - val_clarity_loss: 1.0802 - val_confidence_accuracy: 0.3966 - val_confidence_loss: 1.0847 - val_energy_accuracy: 0.3966 - val_energy_loss: 1.0769 - val_loss: 5.3146 - val_persona_accuracy: 0.1310 - val_persona_loss: 2.0730\n",
            "Epoch 6/50\n",
            "\u001b[1m37/37\u001b[0m \u001b[32m━━━━━━━━━━━━━━━━━━━━\u001b[0m\u001b[37m\u001b[0m \u001b[1m0s\u001b[0m 5s/step - clarity_accuracy: 0.4274 - clarity_loss: 1.0854 - confidence_accuracy: 0.3973 - confidence_loss: 1.0746 - energy_accuracy: 0.3973 - energy_loss: 1.0766 - loss: 5.3090 - persona_accuracy: 0.1294 - persona_loss: 2.0723"
          ]
        },
        {
          "metadata": {
            "tags": null
          },
          "name": "stderr",
          "output_type": "stream",
          "text": [
            "WARNING:absl:You are saving your model as an HDF5 file via `model.save()` or `keras.saving.save_model(model)`. This file format is considered legacy. We recommend using instead the native Keras format, e.g. `model.save('my_model.keras')` or `keras.saving.save_model(model, 'my_model.keras')`. \n"
          ]
        },
        {
          "metadata": {
            "tags": null
          },
          "name": "stdout",
          "output_type": "stream",
          "text": [
            "\u001b[1m37/37\u001b[0m \u001b[32m━━━━━━━━━━━━━━━━━━━━\u001b[0m\u001b[37m\u001b[0m \u001b[1m208s\u001b[0m 5s/step - clarity_accuracy: 0.4285 - clarity_loss: 1.0852 - confidence_accuracy: 0.3973 - confidence_loss: 1.0747 - energy_accuracy: 0.3973 - energy_loss: 1.0766 - loss: 5.3089 - persona_accuracy: 0.1296 - persona_loss: 2.0723 - val_clarity_accuracy: 0.4621 - val_clarity_loss: 1.0769 - val_confidence_accuracy: 0.4000 - val_confidence_loss: 1.0817 - val_energy_accuracy: 0.4000 - val_energy_loss: 1.0729 - val_loss: 5.3033 - val_persona_accuracy: 0.1276 - val_persona_loss: 2.0726\n",
            "Epoch 7/50\n",
            "\u001b[1m37/37\u001b[0m \u001b[32m━━━━━━━━━━━━━━━━━━━━\u001b[0m\u001b[37m\u001b[0m \u001b[1m0s\u001b[0m 4s/step - clarity_accuracy: 0.4542 - clarity_loss: 1.0781 - confidence_accuracy: 0.4064 - confidence_loss: 1.0738 - energy_accuracy: 0.4064 - energy_loss: 1.0733 - loss: 5.2956 - persona_accuracy: 0.1341 - persona_loss: 2.0705"
          ]
        },
        {
          "metadata": {
            "tags": null
          },
          "name": "stderr",
          "output_type": "stream",
          "text": [
            "WARNING:absl:You are saving your model as an HDF5 file via `model.save()` or `keras.saving.save_model(model)`. This file format is considered legacy. We recommend using instead the native Keras format, e.g. `model.save('my_model.keras')` or `keras.saving.save_model(model, 'my_model.keras')`. \n"
          ]
        },
        {
          "metadata": {
            "tags": null
          },
          "name": "stdout",
          "output_type": "stream",
          "text": [
            "\u001b[1m37/37\u001b[0m \u001b[32m━━━━━━━━━━━━━━━━━━━━\u001b[0m\u001b[37m\u001b[0m \u001b[1m166s\u001b[0m 4s/step - clarity_accuracy: 0.4545 - clarity_loss: 1.0780 - confidence_accuracy: 0.4062 - confidence_loss: 1.0738 - energy_accuracy: 0.4062 - energy_loss: 1.0734 - loss: 5.2956 - persona_accuracy: 0.1342 - persona_loss: 2.0705 - val_clarity_accuracy: 0.4621 - val_clarity_loss: 1.0740 - val_confidence_accuracy: 0.4000 - val_confidence_loss: 1.0799 - val_energy_accuracy: 0.4000 - val_energy_loss: 1.0693 - val_loss: 5.2939 - val_persona_accuracy: 0.1276 - val_persona_loss: 2.0716\n",
            "Epoch 8/50\n",
            "\u001b[1m37/37\u001b[0m \u001b[32m━━━━━━━━━━━━━━━━━━━━\u001b[0m\u001b[37m\u001b[0m \u001b[1m0s\u001b[0m 4s/step - clarity_accuracy: 0.4371 - clarity_loss: 1.0798 - confidence_accuracy: 0.3796 - confidence_loss: 1.0706 - energy_accuracy: 0.3796 - energy_loss: 1.0774 - loss: 5.2969 - persona_accuracy: 0.1623 - persona_loss: 2.0691"
          ]
        },
        {
          "metadata": {
            "tags": null
          },
          "name": "stderr",
          "output_type": "stream",
          "text": [
            "WARNING:absl:You are saving your model as an HDF5 file via `model.save()` or `keras.saving.save_model(model)`. This file format is considered legacy. We recommend using instead the native Keras format, e.g. `model.save('my_model.keras')` or `keras.saving.save_model(model, 'my_model.keras')`. \n"
          ]
        },
        {
          "metadata": {
            "tags": null
          },
          "name": "stdout",
          "output_type": "stream",
          "text": [
            "\u001b[1m37/37\u001b[0m \u001b[32m━━━━━━━━━━━━━━━━━━━━\u001b[0m\u001b[37m\u001b[0m \u001b[1m207s\u001b[0m 5s/step - clarity_accuracy: 0.4379 - clarity_loss: 1.0797 - confidence_accuracy: 0.3802 - confidence_loss: 1.0706 - energy_accuracy: 0.3802 - energy_loss: 1.0772 - loss: 5.2966 - persona_accuracy: 0.1616 - persona_loss: 2.0692 - val_clarity_accuracy: 0.4621 - val_clarity_loss: 1.0718 - val_confidence_accuracy: 0.4000 - val_confidence_loss: 1.0782 - val_energy_accuracy: 0.4000 - val_energy_loss: 1.0666 - val_loss: 5.2864 - val_persona_accuracy: 0.1276 - val_persona_loss: 2.0708\n",
            "Epoch 9/50\n",
            "\u001b[1m37/37\u001b[0m \u001b[32m━━━━━━━━━━━━━━━━━━━━\u001b[0m\u001b[37m\u001b[0m \u001b[1m0s\u001b[0m 5s/step - clarity_accuracy: 0.4528 - clarity_loss: 1.0746 - confidence_accuracy: 0.3728 - confidence_loss: 1.0715 - energy_accuracy: 0.3665 - energy_loss: 1.0732 - loss: 5.2912 - persona_accuracy: 0.1351 - persona_loss: 2.0718"
          ]
        },
        {
          "metadata": {
            "tags": null
          },
          "name": "stderr",
          "output_type": "stream",
          "text": [
            "WARNING:absl:You are saving your model as an HDF5 file via `model.save()` or `keras.saving.save_model(model)`. This file format is considered legacy. We recommend using instead the native Keras format, e.g. `model.save('my_model.keras')` or `keras.saving.save_model(model, 'my_model.keras')`. \n"
          ]
        },
        {
          "metadata": {
            "tags": null
          },
          "name": "stdout",
          "output_type": "stream",
          "text": [
            "\u001b[1m37/37\u001b[0m \u001b[32m━━━━━━━━━━━━━━━━━━━━\u001b[0m\u001b[37m\u001b[0m \u001b[1m183s\u001b[0m 5s/step - clarity_accuracy: 0.4531 - clarity_loss: 1.0744 - confidence_accuracy: 0.3735 - confidence_loss: 1.0714 - energy_accuracy: 0.3669 - energy_loss: 1.0731 - loss: 5.2909 - persona_accuracy: 0.1351 - persona_loss: 2.0717 - val_clarity_accuracy: 0.4621 - val_clarity_loss: 1.0700 - val_confidence_accuracy: 0.4000 - val_confidence_loss: 1.0766 - val_energy_accuracy: 0.4000 - val_energy_loss: 1.0636 - val_loss: 5.2795 - val_persona_accuracy: 0.1276 - val_persona_loss: 2.0699\n",
            "Epoch 10/50\n",
            "\u001b[1m37/37\u001b[0m \u001b[32m━━━━━━━━━━━━━━━━━━━━\u001b[0m\u001b[37m\u001b[0m \u001b[1m0s\u001b[0m 4s/step - clarity_accuracy: 0.4681 - clarity_loss: 1.0685 - confidence_accuracy: 0.3834 - confidence_loss: 1.0725 - energy_accuracy: 0.3834 - energy_loss: 1.0720 - loss: 5.2846 - persona_accuracy: 0.1356 - persona_loss: 2.0716"
          ]
        },
        {
          "metadata": {
            "tags": null
          },
          "name": "stderr",
          "output_type": "stream",
          "text": [
            "WARNING:absl:You are saving your model as an HDF5 file via `model.save()` or `keras.saving.save_model(model)`. This file format is considered legacy. We recommend using instead the native Keras format, e.g. `model.save('my_model.keras')` or `keras.saving.save_model(model, 'my_model.keras')`. \n"
          ]
        },
        {
          "metadata": {
            "tags": null
          },
          "name": "stdout",
          "output_type": "stream",
          "text": [
            "\u001b[1m37/37\u001b[0m \u001b[32m━━━━━━━━━━━━━━━━━━━━\u001b[0m\u001b[37m\u001b[0m \u001b[1m184s\u001b[0m 4s/step - clarity_accuracy: 0.4681 - clarity_loss: 1.0685 - confidence_accuracy: 0.3838 - confidence_loss: 1.0723 - energy_accuracy: 0.3838 - energy_loss: 1.0718 - loss: 5.2842 - persona_accuracy: 0.1356 - persona_loss: 2.0715 - val_clarity_accuracy: 0.4621 - val_clarity_loss: 1.0681 - val_confidence_accuracy: 0.4000 - val_confidence_loss: 1.0757 - val_energy_accuracy: 0.4000 - val_energy_loss: 1.0610 - val_loss: 5.2730 - val_persona_accuracy: 0.1276 - val_persona_loss: 2.0691\n",
            "Epoch 11/50\n",
            "\u001b[1m37/37\u001b[0m \u001b[32m━━━━━━━━━━━━━━━━━━━━\u001b[0m\u001b[37m\u001b[0m \u001b[1m0s\u001b[0m 4s/step - clarity_accuracy: 0.4513 - clarity_loss: 1.0719 - confidence_accuracy: 0.4023 - confidence_loss: 1.0621 - energy_accuracy: 0.4023 - energy_loss: 1.0721 - loss: 5.2730 - persona_accuracy: 0.1562 - persona_loss: 2.0670"
          ]
        },
        {
          "metadata": {
            "tags": null
          },
          "name": "stderr",
          "output_type": "stream",
          "text": [
            "WARNING:absl:You are saving your model as an HDF5 file via `model.save()` or `keras.saving.save_model(model)`. This file format is considered legacy. We recommend using instead the native Keras format, e.g. `model.save('my_model.keras')` or `keras.saving.save_model(model, 'my_model.keras')`. \n"
          ]
        },
        {
          "metadata": {
            "tags": null
          },
          "name": "stdout",
          "output_type": "stream",
          "text": [
            "\u001b[1m37/37\u001b[0m \u001b[32m━━━━━━━━━━━━━━━━━━━━\u001b[0m\u001b[37m\u001b[0m \u001b[1m167s\u001b[0m 5s/step - clarity_accuracy: 0.4517 - clarity_loss: 1.0717 - confidence_accuracy: 0.4022 - confidence_loss: 1.0622 - energy_accuracy: 0.4022 - energy_loss: 1.0719 - loss: 5.2728 - persona_accuracy: 0.1557 - persona_loss: 2.0671 - val_clarity_accuracy: 0.4621 - val_clarity_loss: 1.0667 - val_confidence_accuracy: 0.4000 - val_confidence_loss: 1.0747 - val_energy_accuracy: 0.4000 - val_energy_loss: 1.0590 - val_loss: 5.2678 - val_persona_accuracy: 0.1276 - val_persona_loss: 2.0685\n",
            "Epoch 12/50\n",
            "\u001b[1m37/37\u001b[0m \u001b[32m━━━━━━━━━━━━━━━━━━━━\u001b[0m\u001b[37m\u001b[0m \u001b[1m0s\u001b[0m 4s/step - clarity_accuracy: 0.4777 - clarity_loss: 1.0617 - confidence_accuracy: 0.4114 - confidence_loss: 1.0652 - energy_accuracy: 0.4114 - energy_loss: 1.0664 - loss: 5.2630 - persona_accuracy: 0.1315 - persona_loss: 2.0698"
          ]
        },
        {
          "metadata": {
            "tags": null
          },
          "name": "stderr",
          "output_type": "stream",
          "text": [
            "WARNING:absl:You are saving your model as an HDF5 file via `model.save()` or `keras.saving.save_model(model)`. This file format is considered legacy. We recommend using instead the native Keras format, e.g. `model.save('my_model.keras')` or `keras.saving.save_model(model, 'my_model.keras')`. \n"
          ]
        },
        {
          "metadata": {
            "tags": null
          },
          "name": "stdout",
          "output_type": "stream",
          "text": [
            "\u001b[1m37/37\u001b[0m \u001b[32m━━━━━━━━━━━━━━━━━━━━\u001b[0m\u001b[37m\u001b[0m \u001b[1m209s\u001b[0m 5s/step - clarity_accuracy: 0.4775 - clarity_loss: 1.0618 - confidence_accuracy: 0.4110 - confidence_loss: 1.0651 - energy_accuracy: 0.4110 - energy_loss: 1.0663 - loss: 5.2629 - persona_accuracy: 0.1315 - persona_loss: 2.0697 - val_clarity_accuracy: 0.4621 - val_clarity_loss: 1.0655 - val_confidence_accuracy: 0.4000 - val_confidence_loss: 1.0740 - val_energy_accuracy: 0.4000 - val_energy_loss: 1.0571 - val_loss: 5.2636 - val_persona_accuracy: 0.1207 - val_persona_loss: 2.0679\n",
            "Epoch 13/50\n",
            "\u001b[1m37/37\u001b[0m \u001b[32m━━━━━━━━━━━━━━━━━━━━\u001b[0m\u001b[37m\u001b[0m \u001b[1m0s\u001b[0m 4s/step - clarity_accuracy: 0.4667 - clarity_loss: 1.0647 - confidence_accuracy: 0.3776 - confidence_loss: 1.0671 - energy_accuracy: 0.3805 - energy_loss: 1.0624 - loss: 5.2596 - persona_accuracy: 0.1480 - persona_loss: 2.0653"
          ]
        },
        {
          "metadata": {
            "tags": null
          },
          "name": "stderr",
          "output_type": "stream",
          "text": [
            "WARNING:absl:You are saving your model as an HDF5 file via `model.save()` or `keras.saving.save_model(model)`. This file format is considered legacy. We recommend using instead the native Keras format, e.g. `model.save('my_model.keras')` or `keras.saving.save_model(model, 'my_model.keras')`. \n"
          ]
        },
        {
          "metadata": {
            "tags": null
          },
          "name": "stdout",
          "output_type": "stream",
          "text": [
            "\u001b[1m37/37\u001b[0m \u001b[32m━━━━━━━━━━━━━━━━━━━━\u001b[0m\u001b[37m\u001b[0m \u001b[1m167s\u001b[0m 5s/step - clarity_accuracy: 0.4667 - clarity_loss: 1.0647 - confidence_accuracy: 0.3782 - confidence_loss: 1.0670 - energy_accuracy: 0.3807 - energy_loss: 1.0624 - loss: 5.2594 - persona_accuracy: 0.1477 - persona_loss: 2.0654 - val_clarity_accuracy: 0.4621 - val_clarity_loss: 1.0647 - val_confidence_accuracy: 0.4000 - val_confidence_loss: 1.0733 - val_energy_accuracy: 0.3966 - val_energy_loss: 1.0553 - val_loss: 5.2603 - val_persona_accuracy: 0.1276 - val_persona_loss: 2.0673\n",
            "Epoch 14/50\n",
            "\u001b[1m37/37\u001b[0m \u001b[32m━━━━━━━━━━━━━━━━━━━━\u001b[0m\u001b[37m\u001b[0m \u001b[1m0s\u001b[0m 4s/step - clarity_accuracy: 0.4583 - clarity_loss: 1.0671 - confidence_accuracy: 0.3872 - confidence_loss: 1.0605 - energy_accuracy: 0.3937 - energy_loss: 1.0696 - loss: 5.2649 - persona_accuracy: 0.1472 - persona_loss: 2.0677"
          ]
        },
        {
          "metadata": {
            "tags": null
          },
          "name": "stderr",
          "output_type": "stream",
          "text": [
            "WARNING:absl:You are saving your model as an HDF5 file via `model.save()` or `keras.saving.save_model(model)`. This file format is considered legacy. We recommend using instead the native Keras format, e.g. `model.save('my_model.keras')` or `keras.saving.save_model(model, 'my_model.keras')`. \n"
          ]
        },
        {
          "metadata": {
            "tags": null
          },
          "name": "stdout",
          "output_type": "stream",
          "text": [
            "\u001b[1m37/37\u001b[0m \u001b[32m━━━━━━━━━━━━━━━━━━━━\u001b[0m\u001b[37m\u001b[0m \u001b[1m201s\u001b[0m 5s/step - clarity_accuracy: 0.4586 - clarity_loss: 1.0670 - confidence_accuracy: 0.3875 - confidence_loss: 1.0605 - energy_accuracy: 0.3937 - energy_loss: 1.0693 - loss: 5.2645 - persona_accuracy: 0.1469 - persona_loss: 2.0676 - val_clarity_accuracy: 0.4621 - val_clarity_loss: 1.0639 - val_confidence_accuracy: 0.4000 - val_confidence_loss: 1.0729 - val_energy_accuracy: 0.4000 - val_energy_loss: 1.0540 - val_loss: 5.2573 - val_persona_accuracy: 0.1276 - val_persona_loss: 2.0668\n",
            "Epoch 15/50\n",
            "\u001b[1m37/37\u001b[0m \u001b[32m━━━━━━━━━━━━━━━━━━━━\u001b[0m\u001b[37m\u001b[0m \u001b[1m0s\u001b[0m 4s/step - clarity_accuracy: 0.4788 - clarity_loss: 1.0584 - confidence_accuracy: 0.3993 - confidence_loss: 1.0611 - energy_accuracy: 0.3603 - energy_loss: 1.0552 - loss: 5.2402 - persona_accuracy: 0.1223 - persona_loss: 2.0655"
          ]
        },
        {
          "metadata": {
            "tags": null
          },
          "name": "stderr",
          "output_type": "stream",
          "text": [
            "WARNING:absl:You are saving your model as an HDF5 file via `model.save()` or `keras.saving.save_model(model)`. This file format is considered legacy. We recommend using instead the native Keras format, e.g. `model.save('my_model.keras')` or `keras.saving.save_model(model, 'my_model.keras')`. \n"
          ]
        },
        {
          "metadata": {
            "tags": null
          },
          "name": "stdout",
          "output_type": "stream",
          "text": [
            "\u001b[1m37/37\u001b[0m \u001b[32m━━━━━━━━━━━━━━━━━━━━\u001b[0m\u001b[37m\u001b[0m \u001b[1m198s\u001b[0m 4s/step - clarity_accuracy: 0.4785 - clarity_loss: 1.0586 - confidence_accuracy: 0.3993 - confidence_loss: 1.0611 - energy_accuracy: 0.3606 - energy_loss: 1.0554 - loss: 5.2404 - persona_accuracy: 0.1227 - persona_loss: 2.0655 - val_clarity_accuracy: 0.4621 - val_clarity_loss: 1.0632 - val_confidence_accuracy: 0.4000 - val_confidence_loss: 1.0726 - val_energy_accuracy: 0.3966 - val_energy_loss: 1.0526 - val_loss: 5.2545 - val_persona_accuracy: 0.1276 - val_persona_loss: 2.0662\n",
            "Epoch 16/50\n",
            "\u001b[1m37/37\u001b[0m \u001b[32m━━━━━━━━━━━━━━━━━━━━\u001b[0m\u001b[37m\u001b[0m \u001b[1m0s\u001b[0m 4s/step - clarity_accuracy: 0.4853 - clarity_loss: 1.0547 - confidence_accuracy: 0.3935 - confidence_loss: 1.0669 - energy_accuracy: 0.4221 - energy_loss: 1.0524 - loss: 5.2412 - persona_accuracy: 0.1133 - persona_loss: 2.0671"
          ]
        },
        {
          "metadata": {
            "tags": null
          },
          "name": "stderr",
          "output_type": "stream",
          "text": [
            "WARNING:absl:You are saving your model as an HDF5 file via `model.save()` or `keras.saving.save_model(model)`. This file format is considered legacy. We recommend using instead the native Keras format, e.g. `model.save('my_model.keras')` or `keras.saving.save_model(model, 'my_model.keras')`. \n"
          ]
        },
        {
          "metadata": {
            "tags": null
          },
          "name": "stdout",
          "output_type": "stream",
          "text": [
            "\u001b[1m37/37\u001b[0m \u001b[32m━━━━━━━━━━━━━━━━━━━━\u001b[0m\u001b[37m\u001b[0m \u001b[1m214s\u001b[0m 5s/step - clarity_accuracy: 0.4848 - clarity_loss: 1.0549 - confidence_accuracy: 0.3936 - confidence_loss: 1.0667 - energy_accuracy: 0.4216 - energy_loss: 1.0525 - loss: 5.2413 - persona_accuracy: 0.1138 - persona_loss: 2.0670 - val_clarity_accuracy: 0.4621 - val_clarity_loss: 1.0630 - val_confidence_accuracy: 0.4000 - val_confidence_loss: 1.0723 - val_energy_accuracy: 0.3966 - val_energy_loss: 1.0514 - val_loss: 5.2523 - val_persona_accuracy: 0.1276 - val_persona_loss: 2.0657\n",
            "Epoch 17/50\n",
            "\u001b[1m37/37\u001b[0m \u001b[32m━━━━━━━━━━━━━━━━━━━━\u001b[0m\u001b[37m\u001b[0m \u001b[1m0s\u001b[0m 4s/step - clarity_accuracy: 0.4843 - clarity_loss: 1.0544 - confidence_accuracy: 0.4033 - confidence_loss: 1.0666 - energy_accuracy: 0.3905 - energy_loss: 1.0631 - loss: 5.2507 - persona_accuracy: 0.1373 - persona_loss: 2.0666"
          ]
        },
        {
          "metadata": {
            "tags": null
          },
          "name": "stderr",
          "output_type": "stream",
          "text": [
            "WARNING:absl:You are saving your model as an HDF5 file via `model.save()` or `keras.saving.save_model(model)`. This file format is considered legacy. We recommend using instead the native Keras format, e.g. `model.save('my_model.keras')` or `keras.saving.save_model(model, 'my_model.keras')`. \n"
          ]
        },
        {
          "metadata": {
            "tags": null
          },
          "name": "stdout",
          "output_type": "stream",
          "text": [
            "\u001b[1m37/37\u001b[0m \u001b[32m━━━━━━━━━━━━━━━━━━━━\u001b[0m\u001b[37m\u001b[0m \u001b[1m165s\u001b[0m 4s/step - clarity_accuracy: 0.4839 - clarity_loss: 1.0546 - confidence_accuracy: 0.4032 - confidence_loss: 1.0663 - energy_accuracy: 0.3906 - energy_loss: 1.0629 - loss: 5.2505 - persona_accuracy: 0.1372 - persona_loss: 2.0665 - val_clarity_accuracy: 0.4621 - val_clarity_loss: 1.0627 - val_confidence_accuracy: 0.4000 - val_confidence_loss: 1.0722 - val_energy_accuracy: 0.4000 - val_energy_loss: 1.0507 - val_loss: 5.2506 - val_persona_accuracy: 0.1276 - val_persona_loss: 2.0655\n",
            "Epoch 18/50\n",
            "\u001b[1m37/37\u001b[0m \u001b[32m━━━━━━━━━━━━━━━━━━━━\u001b[0m\u001b[37m\u001b[0m \u001b[1m0s\u001b[0m 4s/step - clarity_accuracy: 0.4854 - clarity_loss: 1.0535 - confidence_accuracy: 0.4194 - confidence_loss: 1.0564 - energy_accuracy: 0.4194 - energy_loss: 1.0524 - loss: 5.2260 - persona_accuracy: 0.1229 - persona_loss: 2.0639"
          ]
        },
        {
          "metadata": {
            "tags": null
          },
          "name": "stderr",
          "output_type": "stream",
          "text": [
            "WARNING:absl:You are saving your model as an HDF5 file via `model.save()` or `keras.saving.save_model(model)`. This file format is considered legacy. We recommend using instead the native Keras format, e.g. `model.save('my_model.keras')` or `keras.saving.save_model(model, 'my_model.keras')`. \n"
          ]
        },
        {
          "metadata": {
            "tags": null
          },
          "name": "stdout",
          "output_type": "stream",
          "text": [
            "\u001b[1m37/37\u001b[0m \u001b[32m━━━━━━━━━━━━━━━━━━━━\u001b[0m\u001b[37m\u001b[0m \u001b[1m163s\u001b[0m 4s/step - clarity_accuracy: 0.4850 - clarity_loss: 1.0538 - confidence_accuracy: 0.4188 - confidence_loss: 1.0564 - energy_accuracy: 0.4188 - energy_loss: 1.0526 - loss: 5.2264 - persona_accuracy: 0.1233 - persona_loss: 2.0639 - val_clarity_accuracy: 0.4621 - val_clarity_loss: 1.0622 - val_confidence_accuracy: 0.4000 - val_confidence_loss: 1.0721 - val_energy_accuracy: 0.4000 - val_energy_loss: 1.0497 - val_loss: 5.2490 - val_persona_accuracy: 0.1276 - val_persona_loss: 2.0651\n",
            "Epoch 19/50\n",
            "\u001b[1m37/37\u001b[0m \u001b[32m━━━━━━━━━━━━━━━━━━━━\u001b[0m\u001b[37m\u001b[0m \u001b[1m0s\u001b[0m 4s/step - clarity_accuracy: 0.4435 - clarity_loss: 1.0723 - confidence_accuracy: 0.4089 - confidence_loss: 1.0491 - energy_accuracy: 0.4093 - energy_loss: 1.0559 - loss: 5.2394 - persona_accuracy: 0.1353 - persona_loss: 2.0621"
          ]
        },
        {
          "metadata": {
            "tags": null
          },
          "name": "stderr",
          "output_type": "stream",
          "text": [
            "WARNING:absl:You are saving your model as an HDF5 file via `model.save()` or `keras.saving.save_model(model)`. This file format is considered legacy. We recommend using instead the native Keras format, e.g. `model.save('my_model.keras')` or `keras.saving.save_model(model, 'my_model.keras')`. \n"
          ]
        },
        {
          "metadata": {
            "tags": null
          },
          "name": "stdout",
          "output_type": "stream",
          "text": [
            "\u001b[1m37/37\u001b[0m \u001b[32m━━━━━━━━━━━━━━━━━━━━\u001b[0m\u001b[37m\u001b[0m \u001b[1m216s\u001b[0m 5s/step - clarity_accuracy: 0.4442 - clarity_loss: 1.0720 - confidence_accuracy: 0.4084 - confidence_loss: 1.0494 - energy_accuracy: 0.4089 - energy_loss: 1.0560 - loss: 5.2394 - persona_accuracy: 0.1353 - persona_loss: 2.0622 - val_clarity_accuracy: 0.4621 - val_clarity_loss: 1.0623 - val_confidence_accuracy: 0.4000 - val_confidence_loss: 1.0720 - val_energy_accuracy: 0.3966 - val_energy_loss: 1.0491 - val_loss: 5.2479 - val_persona_accuracy: 0.1276 - val_persona_loss: 2.0648\n",
            "Epoch 20/50\n",
            "\u001b[1m37/37\u001b[0m \u001b[32m━━━━━━━━━━━━━━━━━━━━\u001b[0m\u001b[37m\u001b[0m \u001b[1m0s\u001b[0m 4s/step - clarity_accuracy: 0.4677 - clarity_loss: 1.0609 - confidence_accuracy: 0.3967 - confidence_loss: 1.0554 - energy_accuracy: 0.4035 - energy_loss: 1.0492 - loss: 5.2261 - persona_accuracy: 0.1201 - persona_loss: 2.0607"
          ]
        },
        {
          "metadata": {
            "tags": null
          },
          "name": "stderr",
          "output_type": "stream",
          "text": [
            "WARNING:absl:You are saving your model as an HDF5 file via `model.save()` or `keras.saving.save_model(model)`. This file format is considered legacy. We recommend using instead the native Keras format, e.g. `model.save('my_model.keras')` or `keras.saving.save_model(model, 'my_model.keras')`. \n"
          ]
        },
        {
          "metadata": {
            "tags": null
          },
          "name": "stdout",
          "output_type": "stream",
          "text": [
            "\u001b[1m37/37\u001b[0m \u001b[32m━━━━━━━━━━━━━━━━━━━━\u001b[0m\u001b[37m\u001b[0m \u001b[1m191s\u001b[0m 5s/step - clarity_accuracy: 0.4677 - clarity_loss: 1.0609 - confidence_accuracy: 0.3965 - confidence_loss: 1.0555 - energy_accuracy: 0.4032 - energy_loss: 1.0495 - loss: 5.2264 - persona_accuracy: 0.1201 - persona_loss: 2.0608 - val_clarity_accuracy: 0.4621 - val_clarity_loss: 1.0620 - val_confidence_accuracy: 0.4000 - val_confidence_loss: 1.0722 - val_energy_accuracy: 0.4000 - val_energy_loss: 1.0486 - val_loss: 5.2471 - val_persona_accuracy: 0.1276 - val_persona_loss: 2.0646\n",
            "Epoch 21/50\n",
            "\u001b[1m37/37\u001b[0m \u001b[32m━━━━━━━━━━━━━━━━━━━━\u001b[0m\u001b[37m\u001b[0m \u001b[1m0s\u001b[0m 4s/step - clarity_accuracy: 0.4886 - clarity_loss: 1.0505 - confidence_accuracy: 0.4014 - confidence_loss: 1.0654 - energy_accuracy: 0.3981 - energy_loss: 1.0454 - loss: 5.2231 - persona_accuracy: 0.1014 - persona_loss: 2.0619"
          ]
        },
        {
          "metadata": {
            "tags": null
          },
          "name": "stderr",
          "output_type": "stream",
          "text": [
            "WARNING:absl:You are saving your model as an HDF5 file via `model.save()` or `keras.saving.save_model(model)`. This file format is considered legacy. We recommend using instead the native Keras format, e.g. `model.save('my_model.keras')` or `keras.saving.save_model(model, 'my_model.keras')`. \n"
          ]
        },
        {
          "metadata": {
            "tags": null
          },
          "name": "stdout",
          "output_type": "stream",
          "text": [
            "\u001b[1m37/37\u001b[0m \u001b[32m━━━━━━━━━━━━━━━━━━━━\u001b[0m\u001b[37m\u001b[0m \u001b[1m164s\u001b[0m 4s/step - clarity_accuracy: 0.4881 - clarity_loss: 1.0507 - confidence_accuracy: 0.4013 - confidence_loss: 1.0652 - energy_accuracy: 0.3980 - energy_loss: 1.0457 - loss: 5.2235 - persona_accuracy: 0.1017 - persona_loss: 2.0620 - val_clarity_accuracy: 0.4621 - val_clarity_loss: 1.0618 - val_confidence_accuracy: 0.4000 - val_confidence_loss: 1.0721 - val_energy_accuracy: 0.3966 - val_energy_loss: 1.0479 - val_loss: 5.2464 - val_persona_accuracy: 0.1276 - val_persona_loss: 2.0643\n",
            "Epoch 22/50\n",
            "\u001b[1m37/37\u001b[0m \u001b[32m━━━━━━━━━━━━━━━━━━━━\u001b[0m\u001b[37m\u001b[0m \u001b[1m0s\u001b[0m 4s/step - clarity_accuracy: 0.4639 - clarity_loss: 1.0625 - confidence_accuracy: 0.4208 - confidence_loss: 1.0566 - energy_accuracy: 0.4208 - energy_loss: 1.0566 - loss: 5.2362 - persona_accuracy: 0.1391 - persona_loss: 2.0605"
          ]
        },
        {
          "metadata": {
            "tags": null
          },
          "name": "stderr",
          "output_type": "stream",
          "text": [
            "WARNING:absl:You are saving your model as an HDF5 file via `model.save()` or `keras.saving.save_model(model)`. This file format is considered legacy. We recommend using instead the native Keras format, e.g. `model.save('my_model.keras')` or `keras.saving.save_model(model, 'my_model.keras')`. \n"
          ]
        },
        {
          "metadata": {
            "tags": null
          },
          "name": "stdout",
          "output_type": "stream",
          "text": [
            "\u001b[1m37/37\u001b[0m \u001b[32m━━━━━━━━━━━━━━━━━━━━\u001b[0m\u001b[37m\u001b[0m \u001b[1m216s\u001b[0m 5s/step - clarity_accuracy: 0.4640 - clarity_loss: 1.0624 - confidence_accuracy: 0.4202 - confidence_loss: 1.0566 - energy_accuracy: 0.4202 - energy_loss: 1.0566 - loss: 5.2362 - persona_accuracy: 0.1390 - persona_loss: 2.0606 - val_clarity_accuracy: 0.4621 - val_clarity_loss: 1.0617 - val_confidence_accuracy: 0.4000 - val_confidence_loss: 1.0721 - val_energy_accuracy: 0.3966 - val_energy_loss: 1.0473 - val_loss: 5.2458 - val_persona_accuracy: 0.1276 - val_persona_loss: 2.0641\n",
            "Epoch 23/50\n",
            "\u001b[1m37/37\u001b[0m \u001b[32m━━━━━━━━━━━━━━━━━━━━\u001b[0m\u001b[37m\u001b[0m \u001b[1m0s\u001b[0m 4s/step - clarity_accuracy: 0.4470 - clarity_loss: 1.0711 - confidence_accuracy: 0.4288 - confidence_loss: 1.0537 - energy_accuracy: 0.4317 - energy_loss: 1.0518 - loss: 5.2399 - persona_accuracy: 0.1236 - persona_loss: 2.0632"
          ]
        },
        {
          "metadata": {
            "tags": null
          },
          "name": "stderr",
          "output_type": "stream",
          "text": [
            "WARNING:absl:You are saving your model as an HDF5 file via `model.save()` or `keras.saving.save_model(model)`. This file format is considered legacy. We recommend using instead the native Keras format, e.g. `model.save('my_model.keras')` or `keras.saving.save_model(model, 'my_model.keras')`. \n"
          ]
        },
        {
          "metadata": {
            "tags": null
          },
          "name": "stdout",
          "output_type": "stream",
          "text": [
            "\u001b[1m37/37\u001b[0m \u001b[32m━━━━━━━━━━━━━━━━━━━━\u001b[0m\u001b[37m\u001b[0m \u001b[1m171s\u001b[0m 5s/step - clarity_accuracy: 0.4476 - clarity_loss: 1.0709 - confidence_accuracy: 0.4279 - confidence_loss: 1.0537 - energy_accuracy: 0.4309 - energy_loss: 1.0519 - loss: 5.2398 - persona_accuracy: 0.1236 - persona_loss: 2.0632 - val_clarity_accuracy: 0.4621 - val_clarity_loss: 1.0615 - val_confidence_accuracy: 0.4000 - val_confidence_loss: 1.0723 - val_energy_accuracy: 0.3966 - val_energy_loss: 1.0469 - val_loss: 5.2451 - val_persona_accuracy: 0.1276 - val_persona_loss: 2.0638\n",
            "Epoch 24/50\n",
            "\u001b[1m37/37\u001b[0m \u001b[32m━━━━━━━━━━━━━━━━━━━━\u001b[0m\u001b[37m\u001b[0m \u001b[1m0s\u001b[0m 4s/step - clarity_accuracy: 0.4742 - clarity_loss: 1.0569 - confidence_accuracy: 0.3869 - confidence_loss: 1.0608 - energy_accuracy: 0.3847 - energy_loss: 1.0677 - loss: 5.2491 - persona_accuracy: 0.1512 - persona_loss: 2.0636"
          ]
        },
        {
          "metadata": {
            "tags": null
          },
          "name": "stderr",
          "output_type": "stream",
          "text": [
            "WARNING:absl:You are saving your model as an HDF5 file via `model.save()` or `keras.saving.save_model(model)`. This file format is considered legacy. We recommend using instead the native Keras format, e.g. `model.save('my_model.keras')` or `keras.saving.save_model(model, 'my_model.keras')`. \n"
          ]
        },
        {
          "metadata": {
            "tags": null
          },
          "name": "stdout",
          "output_type": "stream",
          "text": [
            "\u001b[1m37/37\u001b[0m \u001b[32m━━━━━━━━━━━━━━━━━━━━\u001b[0m\u001b[37m\u001b[0m \u001b[1m168s\u001b[0m 5s/step - clarity_accuracy: 0.4740 - clarity_loss: 1.0570 - confidence_accuracy: 0.3867 - confidence_loss: 1.0607 - energy_accuracy: 0.3851 - energy_loss: 1.0674 - loss: 5.2487 - persona_accuracy: 0.1508 - persona_loss: 2.0636 - val_clarity_accuracy: 0.4621 - val_clarity_loss: 1.0616 - val_confidence_accuracy: 0.4000 - val_confidence_loss: 1.0724 - val_energy_accuracy: 0.3966 - val_energy_loss: 1.0467 - val_loss: 5.2447 - val_persona_accuracy: 0.1276 - val_persona_loss: 2.0637\n",
            "Epoch 25/50\n",
            "\u001b[1m37/37\u001b[0m \u001b[32m━━━━━━━━━━━━━━━━━━━━\u001b[0m\u001b[37m\u001b[0m \u001b[1m0s\u001b[0m 4s/step - clarity_accuracy: 0.4937 - clarity_loss: 1.0467 - confidence_accuracy: 0.4057 - confidence_loss: 1.0640 - energy_accuracy: 0.4057 - energy_loss: 1.0480 - loss: 5.2193 - persona_accuracy: 0.1201 - persona_loss: 2.0606"
          ]
        },
        {
          "metadata": {
            "tags": null
          },
          "name": "stderr",
          "output_type": "stream",
          "text": [
            "WARNING:absl:You are saving your model as an HDF5 file via `model.save()` or `keras.saving.save_model(model)`. This file format is considered legacy. We recommend using instead the native Keras format, e.g. `model.save('my_model.keras')` or `keras.saving.save_model(model, 'my_model.keras')`. \n"
          ]
        },
        {
          "output_type": "stream",
          "name": "stdout",
          "text": [
            "\u001b[1m37/37\u001b[0m \u001b[32m━━━━━━━━━━━━━━━━━━━━\u001b[0m\u001b[37m\u001b[0m \u001b[1m210s\u001b[0m 5s/step - clarity_accuracy: 0.4930 - clarity_loss: 1.0470 - confidence_accuracy: 0.4055 - confidence_loss: 1.0638 - energy_accuracy: 0.4051 - energy_loss: 1.0481 - loss: 5.2197 - persona_accuracy: 0.1202 - persona_loss: 2.0606 - val_clarity_accuracy: 0.4621 - val_clarity_loss: 1.0615 - val_confidence_accuracy: 0.4000 - val_confidence_loss: 1.0726 - val_energy_accuracy: 0.4000 - val_energy_loss: 1.0464 - val_loss: 5.2442 - val_persona_accuracy: 0.1207 - val_persona_loss: 2.0637\n",
            "Epoch 26/50\n",
            "\u001b[1m37/37\u001b[0m \u001b[32m━━━━━━━━━━━━━━━━━━━━\u001b[0m\u001b[37m\u001b[0m \u001b[1m0s\u001b[0m 4s/step - clarity_accuracy: 0.4667 - clarity_loss: 1.0608 - confidence_accuracy: 0.3662 - confidence_loss: 1.0584 - energy_accuracy: 0.3949 - energy_loss: 1.0502 - loss: 5.2272 - persona_accuracy: 0.1281 - persona_loss: 2.0577"
          ]
        },
        {
          "output_type": "stream",
          "name": "stderr",
          "text": [
            "WARNING:absl:You are saving your model as an HDF5 file via `model.save()` or `keras.saving.save_model(model)`. This file format is considered legacy. We recommend using instead the native Keras format, e.g. `model.save('my_model.keras')` or `keras.saving.save_model(model, 'my_model.keras')`. \n"
          ]
        },
        {
          "output_type": "stream",
          "name": "stdout",
          "text": [
            "\b\b\b\b\b\b\b\b\b\b\b\b\b\b\b\b\b\b\b\b\b\b\b\b\b\b\b\b\b\b\b\b\b\b\b\b\b\b\b\b\b\b\b\b\b\b\b\b\b\b\b\b\b\b\b\b\b\b\b\b\b\b\b\b\b\b\b\b\b\b\b\b\b\b\b\b\b\b\b\b\b\b\b\b\b\b\b\b\b\b\b\b\b\b\b\b\b\b\b\b\b\b\b\b\b\b\b\b\b\b\b\b\b\b\b\b\b\b\b\b\b\b\b\b\b\b\b\b\b\b\b\b\b\b\b\b\b\b\b\b\b\b\b\b\b\b\b\b\b\b\b\b\b\b\b\b\b\b\b\b\b\b\b\b\b\b\b\b\b\b\b\b\b\b\b\b\b\b\b\b\b\b\b\b\b\b\b\b\b\b\b\b\b\b\b\b\b\b\b\b\b\b\b\b\b\b\b\b\b\b\b\b\b\b\b\b\b\b\b\b\b\b\b\b\b\b\b\b\b\b\b\b\b\b\b\b\b\b\b\b\b\b\b\b\b\b\b\b\b\b\b\b\b\b\b\b\r\u001b[1m37/37\u001b[0m \u001b[32m━━━━━━━━━━━━━━━━━━━━\u001b[0m\u001b[37m\u001b[0m \u001b[1m191s\u001b[0m 4s/step - clarity_accuracy: 0.4667 - clarity_loss: 1.0608 - confidence_accuracy: 0.3667 - confidence_loss: 1.0582 - energy_accuracy: 0.3948 - energy_loss: 1.0505 - loss: 5.2273 - persona_accuracy: 0.1282 - persona_loss: 2.0578 - val_clarity_accuracy: 0.4621 - val_clarity_loss: 1.0612 - val_confidence_accuracy: 0.4000 - val_confidence_loss: 1.0725 - val_energy_accuracy: 0.3966 - val_energy_loss: 1.0456 - val_loss: 5.2439 - val_persona_accuracy: 0.1207 - val_persona_loss: 2.0633\n",
            "Epoch 27/50\n",
            "\u001b[1m37/37\u001b[0m \u001b[32m━━━━━━━━━━━━━━━━━━━━\u001b[0m\u001b[37m\u001b[0m \u001b[1m0s\u001b[0m 4s/step - clarity_accuracy: 0.4808 - clarity_loss: 1.0532 - confidence_accuracy: 0.3770 - confidence_loss: 1.0534 - energy_accuracy: 0.3783 - energy_loss: 1.0506 - loss: 5.2205 - persona_accuracy: 0.1376 - persona_loss: 2.0633"
          ]
        },
        {
          "output_type": "stream",
          "name": "stderr",
          "text": [
            "WARNING:absl:You are saving your model as an HDF5 file via `model.save()` or `keras.saving.save_model(model)`. This file format is considered legacy. We recommend using instead the native Keras format, e.g. `model.save('my_model.keras')` or `keras.saving.save_model(model, 'my_model.keras')`. \n"
          ]
        },
        {
          "output_type": "stream",
          "name": "stdout",
          "text": [
            "\b\b\b\b\b\b\b\b\b\b\b\b\b\b\b\b\b\b\b\b\b\b\b\b\b\b\b\b\b\b\b\b\b\b\b\b\b\b\b\b\b\b\b\b\b\b\b\b\b\b\b\b\b\b\b\b\b\b\b\b\b\b\b\b\b\b\b\b\b\b\b\b\b\b\b\b\b\b\b\b\b\b\b\b\b\b\b\b\b\b\b\b\b\b\b\b\b\b\b\b\b\b\b\b\b\b\b\b\b\b\b\b\b\b\b\b\b\b\b\b\b\b\b\b\b\b\b\b\b\b\b\b\b\b\b\b\b\b\b\b\b\b\b\b\b\b\b\b\b\b\b\b\b\b\b\b\b\b\b\b\b\b\b\b\b\b\b\b\b\b\b\b\b\b\b\b\b\b\b\b\b\b\b\b\b\b\b\b\b\b\b\b\b\b\b\b\b\b\b\b\b\b\b\b\b\b\b\b\b\b\b\b\b\b\b\b\b\b\b\b\b\b\b\b\b\b\b\b\b\b\b\b\b\b\b\b\b\b\b\b\b\b\b\b\b\b\b\b\b\b\b\b\b\b\b\b\r\u001b[1m37/37\u001b[0m \u001b[32m━━━━━━━━━━━━━━━━━━━━\u001b[0m\u001b[37m\u001b[0m \u001b[1m198s\u001b[0m 4s/step - clarity_accuracy: 0.4804 - clarity_loss: 1.0534 - confidence_accuracy: 0.3769 - confidence_loss: 1.0535 - energy_accuracy: 0.3783 - energy_loss: 1.0507 - loss: 5.2208 - persona_accuracy: 0.1375 - persona_loss: 2.0633 - val_clarity_accuracy: 0.4621 - val_clarity_loss: 1.0614 - val_confidence_accuracy: 0.4000 - val_confidence_loss: 1.0727 - val_energy_accuracy: 0.3966 - val_energy_loss: 1.0458 - val_loss: 5.2439 - val_persona_accuracy: 0.1276 - val_persona_loss: 2.0634\n",
            "Epoch 28/50\n",
            "\u001b[1m37/37\u001b[0m \u001b[32m━━━━━━━━━━━━━━━━━━━━\u001b[0m\u001b[37m\u001b[0m \u001b[1m0s\u001b[0m 4s/step - clarity_accuracy: 0.4544 - clarity_loss: 1.0671 - confidence_accuracy: 0.3999 - confidence_loss: 1.0551 - energy_accuracy: 0.4115 - energy_loss: 1.0480 - loss: 5.2280 - persona_accuracy: 0.1298 - persona_loss: 2.0577"
          ]
        },
        {
          "output_type": "stream",
          "name": "stderr",
          "text": [
            "WARNING:absl:You are saving your model as an HDF5 file via `model.save()` or `keras.saving.save_model(model)`. This file format is considered legacy. We recommend using instead the native Keras format, e.g. `model.save('my_model.keras')` or `keras.saving.save_model(model, 'my_model.keras')`. \n"
          ]
        },
        {
          "output_type": "stream",
          "name": "stdout",
          "text": [
            "\b\b\b\b\b\b\b\b\b\b\b\b\b\b\b\b\b\b\b\b\b\b\b\b\b\b\b\b\b\b\b\b\b\b\b\b\b\b\b\b\b\b\b\b\b\b\b\b\b\b\b\b\b\b\b\b\b\b\b\b\b\b\b\b\b\b\b\b\b\b\b\b\b\b\b\b\b\b\b\b\b\b\b\b\b\b\b\b\b\b\b\b\b\b\b\b\b\b\b\b\b\b\b\b\b\b\b\b\b\b\b\b\b\b\b\b\b\b\b\b\b\b\b\b\b\b\b\b\b\b\b\b\b\b\b\b\b\b\b\b\b\b\b\b\b\b\b\b\b\b\b\b\b\b\b\b\b\b\b\b\b\b\b\b\b\b\b\b\b\b\b\b\b\b\b\b\b\b\b\b\b\b\b\b\b\b\b\b\b\b\b\b\b\b\b\b\b\b\b\b\b\b\b\b\b\b\b\b\b\b\b\b\b\b\b\b\b\b\b\b\b\b\b\b\b\b\b\b\b\b\b\b\b\b\b\b\b\b\b\b\b\b\b\b\b\b\b\b\b\b\b\b\b\b\b\b\r\u001b[1m37/37\u001b[0m \u001b[32m━━━━━━━━━━━━━━━━━━━━\u001b[0m\u001b[37m\u001b[0m \u001b[1m163s\u001b[0m 4s/step - clarity_accuracy: 0.4548 - clarity_loss: 1.0668 - confidence_accuracy: 0.3999 - confidence_loss: 1.0551 - energy_accuracy: 0.4112 - energy_loss: 1.0482 - loss: 5.2281 - persona_accuracy: 0.1300 - persona_loss: 2.0578 - val_clarity_accuracy: 0.4621 - val_clarity_loss: 1.0613 - val_confidence_accuracy: 0.4000 - val_confidence_loss: 1.0727 - val_energy_accuracy: 0.3966 - val_energy_loss: 1.0454 - val_loss: 5.2436 - val_persona_accuracy: 0.1276 - val_persona_loss: 2.0633\n",
            "Epoch 29/50\n",
            "\u001b[1m37/37\u001b[0m \u001b[32m━━━━━━━━━━━━━━━━━━━━\u001b[0m\u001b[37m\u001b[0m \u001b[1m0s\u001b[0m 5s/step - clarity_accuracy: 0.4638 - clarity_loss: 1.0622 - confidence_accuracy: 0.4015 - confidence_loss: 1.0467 - energy_accuracy: 0.3887 - energy_loss: 1.0538 - loss: 5.2204 - persona_accuracy: 0.1215 - persona_loss: 2.0579"
          ]
        },
        {
          "output_type": "stream",
          "name": "stderr",
          "text": [
            "WARNING:absl:You are saving your model as an HDF5 file via `model.save()` or `keras.saving.save_model(model)`. This file format is considered legacy. We recommend using instead the native Keras format, e.g. `model.save('my_model.keras')` or `keras.saving.save_model(model, 'my_model.keras')`. \n"
          ]
        },
        {
          "output_type": "stream",
          "name": "stdout",
          "text": [
            "\b\b\b\b\b\b\b\b\b\b\b\b\b\b\b\b\b\b\b\b\b\b\b\b\b\b\b\b\b\b\b\b\b\b\b\b\b\b\b\b\b\b\b\b\b\b\b\b\b\b\b\b\b\b\b\b\b\b\b\b\b\b\b\b\b\b\b\b\b\b\b\b\b\b\b\b\b\b\b\b\b\b\b\b\b\b\b\b\b\b\b\b\b\b\b\b\b\b\b\b\b\b\b\b\b\b\b\b\b\b\b\b\b\b\b\b\b\b\b\b\b\b\b\b\b\b\b\b\b\b\b\b\b\b\b\b\b\b\b\b\b\b\b\b\b\b\b\b\b\b\b\b\b\b\b\b\b\b\b\b\b\b\b\b\b\b\b\b\b\b\b\b\b\b\b\b\b\b\b\b\b\b\b\b\b\b\b\b\b\b\b\b\b\b\b\b\b\b\b\b\b\b\b\b\b\b\b\b\b\b\b\b\b\b\b\b\b\b\b\b\b\b\b\b\b\b\b\b\b\b\b\b\b\b\b\b\b\b\b\b\b\b\b\b\b\b\b\b\b\b\b\b\b\b\b\b\r\u001b[1m37/37\u001b[0m \u001b[32m━━━━━━━━━━━━━━━━━━━━\u001b[0m\u001b[37m\u001b[0m \u001b[1m178s\u001b[0m 5s/step - clarity_accuracy: 0.4639 - clarity_loss: 1.0621 - confidence_accuracy: 0.4011 - confidence_loss: 1.0470 - energy_accuracy: 0.3886 - energy_loss: 1.0539 - loss: 5.2207 - persona_accuracy: 0.1217 - persona_loss: 2.0580 - val_clarity_accuracy: 0.4621 - val_clarity_loss: 1.0614 - val_confidence_accuracy: 0.4000 - val_confidence_loss: 1.0730 - val_energy_accuracy: 0.4000 - val_energy_loss: 1.0456 - val_loss: 5.2435 - val_persona_accuracy: 0.1207 - val_persona_loss: 2.0634\n",
            "Epoch 30/50\n",
            "\u001b[1m37/37\u001b[0m \u001b[32m━━━━━━━━━━━━━━━━━━━━\u001b[0m\u001b[37m\u001b[0m \u001b[1m162s\u001b[0m 4s/step - clarity_accuracy: 0.4395 - clarity_loss: 1.0754 - confidence_accuracy: 0.3995 - confidence_loss: 1.0500 - energy_accuracy: 0.4269 - energy_loss: 1.0500 - loss: 5.2356 - persona_accuracy: 0.1293 - persona_loss: 2.0599 - val_clarity_accuracy: 0.4621 - val_clarity_loss: 1.0613 - val_confidence_accuracy: 0.4000 - val_confidence_loss: 1.0729 - val_energy_accuracy: 0.3966 - val_energy_loss: 1.0451 - val_loss: 5.2435 - val_persona_accuracy: 0.1207 - val_persona_loss: 2.0631\n",
            "Epoch 31/50\n",
            "\u001b[1m37/37\u001b[0m \u001b[32m━━━━━━━━━━━━━━━━━━━━\u001b[0m\u001b[37m\u001b[0m \u001b[1m0s\u001b[0m 4s/step - clarity_accuracy: 0.4632 - clarity_loss: 1.0625 - confidence_accuracy: 0.4127 - confidence_loss: 1.0492 - energy_accuracy: 0.3880 - energy_loss: 1.0650 - loss: 5.2407 - persona_accuracy: 0.1444 - persona_loss: 2.0641"
          ]
        },
        {
          "output_type": "stream",
          "name": "stderr",
          "text": [
            "WARNING:absl:You are saving your model as an HDF5 file via `model.save()` or `keras.saving.save_model(model)`. This file format is considered legacy. We recommend using instead the native Keras format, e.g. `model.save('my_model.keras')` or `keras.saving.save_model(model, 'my_model.keras')`. \n"
          ]
        },
        {
          "output_type": "stream",
          "name": "stdout",
          "text": [
            "\b\b\b\b\b\b\b\b\b\b\b\b\b\b\b\b\b\b\b\b\b\b\b\b\b\b\b\b\b\b\b\b\b\b\b\b\b\b\b\b\b\b\b\b\b\b\b\b\b\b\b\b\b\b\b\b\b\b\b\b\b\b\b\b\b\b\b\b\b\b\b\b\b\b\b\b\b\b\b\b\b\b\b\b\b\b\b\b\b\b\b\b\b\b\b\b\b\b\b\b\b\b\b\b\b\b\b\b\b\b\b\b\b\b\b\b\b\b\b\b\b\b\b\b\b\b\b\b\b\b\b\b\b\b\b\b\b\b\b\b\b\b\b\b\b\b\b\b\b\b\b\b\b\b\b\b\b\b\b\b\b\b\b\b\b\b\b\b\b\b\b\b\b\b\b\b\b\b\b\b\b\b\b\b\b\b\b\b\b\b\b\b\b\b\b\b\b\b\b\b\b\b\b\b\b\b\b\b\b\b\b\b\b\b\b\b\b\b\b\b\b\b\b\b\b\b\b\b\b\b\b\b\b\b\b\b\b\b\b\b\b\b\b\b\b\b\b\b\b\b\b\b\b\b\b\b\r\u001b[1m37/37\u001b[0m \u001b[32m━━━━━━━━━━━━━━━━━━━━\u001b[0m\u001b[37m\u001b[0m \u001b[1m202s\u001b[0m 4s/step - clarity_accuracy: 0.4634 - clarity_loss: 1.0624 - confidence_accuracy: 0.4124 - confidence_loss: 1.0494 - energy_accuracy: 0.3884 - energy_loss: 1.0648 - loss: 5.2405 - persona_accuracy: 0.1442 - persona_loss: 2.0640 - val_clarity_accuracy: 0.4621 - val_clarity_loss: 1.0612 - val_confidence_accuracy: 0.4000 - val_confidence_loss: 1.0730 - val_energy_accuracy: 0.3966 - val_energy_loss: 1.0451 - val_loss: 5.2434 - val_persona_accuracy: 0.1207 - val_persona_loss: 2.0632\n",
            "Epoch 32/50\n",
            "\u001b[1m37/37\u001b[0m \u001b[32m━━━━━━━━━━━━━━━━━━━━\u001b[0m\u001b[37m\u001b[0m \u001b[1m215s\u001b[0m 5s/step - clarity_accuracy: 0.4833 - clarity_loss: 1.0514 - confidence_accuracy: 0.3965 - confidence_loss: 1.0622 - energy_accuracy: 0.4005 - energy_loss: 1.0595 - loss: 5.2330 - persona_accuracy: 0.1432 - persona_loss: 2.0596 - val_clarity_accuracy: 0.4621 - val_clarity_loss: 1.0613 - val_confidence_accuracy: 0.4000 - val_confidence_loss: 1.0730 - val_energy_accuracy: 0.3966 - val_energy_loss: 1.0450 - val_loss: 5.2435 - val_persona_accuracy: 0.1207 - val_persona_loss: 2.0631\n",
            "Epoch 33/50\n",
            "\u001b[1m37/37\u001b[0m \u001b[32m━━━━━━━━━━━━━━━━━━━━\u001b[0m\u001b[37m\u001b[0m \u001b[1m0s\u001b[0m 4s/step - clarity_accuracy: 0.4705 - clarity_loss: 1.0585 - confidence_accuracy: 0.3772 - confidence_loss: 1.0573 - energy_accuracy: 0.3925 - energy_loss: 1.0453 - loss: 5.2233 - persona_accuracy: 0.1280 - persona_loss: 2.0624"
          ]
        },
        {
          "output_type": "stream",
          "name": "stderr",
          "text": [
            "WARNING:absl:You are saving your model as an HDF5 file via `model.save()` or `keras.saving.save_model(model)`. This file format is considered legacy. We recommend using instead the native Keras format, e.g. `model.save('my_model.keras')` or `keras.saving.save_model(model, 'my_model.keras')`. \n"
          ]
        },
        {
          "output_type": "stream",
          "name": "stdout",
          "text": [
            "\b\b\b\b\b\b\b\b\b\b\b\b\b\b\b\b\b\b\b\b\b\b\b\b\b\b\b\b\b\b\b\b\b\b\b\b\b\b\b\b\b\b\b\b\b\b\b\b\b\b\b\b\b\b\b\b\b\b\b\b\b\b\b\b\b\b\b\b\b\b\b\b\b\b\b\b\b\b\b\b\b\b\b\b\b\b\b\b\b\b\b\b\b\b\b\b\b\b\b\b\b\b\b\b\b\b\b\b\b\b\b\b\b\b\b\b\b\b\b\b\b\b\b\b\b\b\b\b\b\b\b\b\b\b\b\b\b\b\b\b\b\b\b\b\b\b\b\b\b\b\b\b\b\b\b\b\b\b\b\b\b\b\b\b\b\b\b\b\b\b\b\b\b\b\b\b\b\b\b\b\b\b\b\b\b\b\b\b\b\b\b\b\b\b\b\b\b\b\b\b\b\b\b\b\b\b\b\b\b\b\b\b\b\b\b\b\b\b\b\b\b\b\b\b\b\b\b\b\b\b\b\b\b\b\b\b\b\b\b\b\b\b\b\b\b\b\b\b\b\b\b\b\b\b\b\b\r\u001b[1m37/37\u001b[0m \u001b[32m━━━━━━━━━━━━━━━━━━━━\u001b[0m\u001b[37m\u001b[0m \u001b[1m192s\u001b[0m 5s/step - clarity_accuracy: 0.4704 - clarity_loss: 1.0585 - confidence_accuracy: 0.3773 - confidence_loss: 1.0573 - energy_accuracy: 0.3923 - energy_loss: 1.0457 - loss: 5.2235 - persona_accuracy: 0.1282 - persona_loss: 2.0624 - val_clarity_accuracy: 0.4621 - val_clarity_loss: 1.0613 - val_confidence_accuracy: 0.4000 - val_confidence_loss: 1.0734 - val_energy_accuracy: 0.4000 - val_energy_loss: 1.0450 - val_loss: 5.2433 - val_persona_accuracy: 0.1207 - val_persona_loss: 2.0631\n",
            "Epoch 34/50\n",
            "\u001b[1m37/37\u001b[0m \u001b[32m━━━━━━━━━━━━━━━━━━━━\u001b[0m\u001b[37m\u001b[0m \u001b[1m162s\u001b[0m 4s/step - clarity_accuracy: 0.4639 - clarity_loss: 1.0622 - confidence_accuracy: 0.4008 - confidence_loss: 1.0557 - energy_accuracy: 0.4009 - energy_loss: 1.0618 - loss: 5.2387 - persona_accuracy: 0.1372 - persona_loss: 2.0591 - val_clarity_accuracy: 0.4621 - val_clarity_loss: 1.0614 - val_confidence_accuracy: 0.4000 - val_confidence_loss: 1.0733 - val_energy_accuracy: 0.3966 - val_energy_loss: 1.0449 - val_loss: 5.2434 - val_persona_accuracy: 0.1207 - val_persona_loss: 2.0630\n",
            "Epoch 35/50\n",
            "\u001b[1m37/37\u001b[0m \u001b[32m━━━━━━━━━━━━━━━━━━━━\u001b[0m\u001b[37m\u001b[0m \u001b[1m212s\u001b[0m 5s/step - clarity_accuracy: 0.4853 - clarity_loss: 1.0501 - confidence_accuracy: 0.3924 - confidence_loss: 1.0629 - energy_accuracy: 0.3775 - energy_loss: 1.0754 - loss: 5.2555 - persona_accuracy: 0.1308 - persona_loss: 2.0671 - val_clarity_accuracy: 0.4621 - val_clarity_loss: 1.0614 - val_confidence_accuracy: 0.4000 - val_confidence_loss: 1.0734 - val_energy_accuracy: 0.3966 - val_energy_loss: 1.0448 - val_loss: 5.2434 - val_persona_accuracy: 0.1207 - val_persona_loss: 2.0630\n",
            "Epoch 36/50\n",
            "\u001b[1m37/37\u001b[0m \u001b[32m━━━━━━━━━━━━━━━━━━━━\u001b[0m\u001b[37m\u001b[0m \u001b[1m191s\u001b[0m 4s/step - clarity_accuracy: 0.4596 - clarity_loss: 1.0646 - confidence_accuracy: 0.4191 - confidence_loss: 1.0570 - energy_accuracy: 0.4095 - energy_loss: 1.0636 - loss: 5.2426 - persona_accuracy: 0.1353 - persona_loss: 2.0576 - val_clarity_accuracy: 0.4621 - val_clarity_loss: 1.0615 - val_confidence_accuracy: 0.4000 - val_confidence_loss: 1.0735 - val_energy_accuracy: 0.4000 - val_energy_loss: 1.0449 - val_loss: 5.2434 - val_persona_accuracy: 0.1207 - val_persona_loss: 2.0631\n",
            "Epoch 37/50\n",
            "\u001b[1m37/37\u001b[0m \u001b[32m━━━━━━━━━━━━━━━━━━━━\u001b[0m\u001b[37m\u001b[0m \u001b[1m207s\u001b[0m 4s/step - clarity_accuracy: 0.4737 - clarity_loss: 1.0567 - confidence_accuracy: 0.4058 - confidence_loss: 1.0529 - energy_accuracy: 0.4070 - energy_loss: 1.0627 - loss: 5.2319 - persona_accuracy: 0.1485 - persona_loss: 2.0597 - val_clarity_accuracy: 0.4621 - val_clarity_loss: 1.0612 - val_confidence_accuracy: 0.4000 - val_confidence_loss: 1.0735 - val_energy_accuracy: 0.3966 - val_energy_loss: 1.0445 - val_loss: 5.2433 - val_persona_accuracy: 0.1207 - val_persona_loss: 2.0629\n",
            "Epoch 38/50\n",
            "\u001b[1m37/37\u001b[0m \u001b[32m━━━━━━━━━━━━━━━━━━━━\u001b[0m\u001b[37m\u001b[0m \u001b[1m0s\u001b[0m 4s/step - clarity_accuracy: 0.4488 - clarity_loss: 1.0707 - confidence_accuracy: 0.4267 - confidence_loss: 1.0467 - energy_accuracy: 0.4328 - energy_loss: 1.0427 - loss: 5.2128 - persona_accuracy: 0.1382 - persona_loss: 2.0529"
          ]
        },
        {
          "output_type": "stream",
          "name": "stderr",
          "text": [
            "WARNING:absl:You are saving your model as an HDF5 file via `model.save()` or `keras.saving.save_model(model)`. This file format is considered legacy. We recommend using instead the native Keras format, e.g. `model.save('my_model.keras')` or `keras.saving.save_model(model, 'my_model.keras')`. \n"
          ]
        },
        {
          "output_type": "stream",
          "name": "stdout",
          "text": [
            "\b\b\b\b\b\b\b\b\b\b\b\b\b\b\b\b\b\b\b\b\b\b\b\b\b\b\b\b\b\b\b\b\b\b\b\b\b\b\b\b\b\b\b\b\b\b\b\b\b\b\b\b\b\b\b\b\b\b\b\b\b\b\b\b\b\b\b\b\b\b\b\b\b\b\b\b\b\b\b\b\b\b\b\b\b\b\b\b\b\b\b\b\b\b\b\b\b\b\b\b\b\b\b\b\b\b\b\b\b\b\b\b\b\b\b\b\b\b\b\b\b\b\b\b\b\b\b\b\b\b\b\b\b\b\b\b\b\b\b\b\b\b\b\b\b\b\b\b\b\b\b\b\b\b\b\b\b\b\b\b\b\b\b\b\b\b\b\b\b\b\b\b\b\b\b\b\b\b\b\b\b\b\b\b\b\b\b\b\b\b\b\b\b\b\b\b\b\b\b\b\b\b\b\b\b\b\b\b\b\b\b\b\b\b\b\b\b\b\b\b\b\b\b\b\b\b\b\b\b\b\b\b\b\b\b\b\b\b\b\b\b\b\b\b\b\b\b\b\b\b\b\b\b\b\b\b\r\u001b[1m37/37\u001b[0m \u001b[32m━━━━━━━━━━━━━━━━━━━━\u001b[0m\u001b[37m\u001b[0m \u001b[1m209s\u001b[0m 5s/step - clarity_accuracy: 0.4493 - clarity_loss: 1.0705 - confidence_accuracy: 0.4260 - confidence_loss: 1.0469 - energy_accuracy: 0.4320 - energy_loss: 1.0430 - loss: 5.2132 - persona_accuracy: 0.1381 - persona_loss: 2.0531 - val_clarity_accuracy: 0.4621 - val_clarity_loss: 1.0612 - val_confidence_accuracy: 0.4000 - val_confidence_loss: 1.0736 - val_energy_accuracy: 0.3966 - val_energy_loss: 1.0444 - val_loss: 5.2432 - val_persona_accuracy: 0.1207 - val_persona_loss: 2.0629\n",
            "Epoch 39/50\n",
            "\u001b[1m37/37\u001b[0m \u001b[32m━━━━━━━━━━━━━━━━━━━━\u001b[0m\u001b[37m\u001b[0m \u001b[1m0s\u001b[0m 4s/step - clarity_accuracy: 0.4580 - clarity_loss: 1.0654 - confidence_accuracy: 0.4147 - confidence_loss: 1.0511 - energy_accuracy: 0.3879 - energy_loss: 1.0680 - loss: 5.2504 - persona_accuracy: 0.1301 - persona_loss: 2.0658"
          ]
        },
        {
          "output_type": "stream",
          "name": "stderr",
          "text": [
            "WARNING:absl:You are saving your model as an HDF5 file via `model.save()` or `keras.saving.save_model(model)`. This file format is considered legacy. We recommend using instead the native Keras format, e.g. `model.save('my_model.keras')` or `keras.saving.save_model(model, 'my_model.keras')`. \n"
          ]
        },
        {
          "output_type": "stream",
          "name": "stdout",
          "text": [
            "\b\b\b\b\b\b\b\b\b\b\b\b\b\b\b\b\b\b\b\b\b\b\b\b\b\b\b\b\b\b\b\b\b\b\b\b\b\b\b\b\b\b\b\b\b\b\b\b\b\b\b\b\b\b\b\b\b\b\b\b\b\b\b\b\b\b\b\b\b\b\b\b\b\b\b\b\b\b\b\b\b\b\b\b\b\b\b\b\b\b\b\b\b\b\b\b\b\b\b\b\b\b\b\b\b\b\b\b\b\b\b\b\b\b\b\b\b\b\b\b\b\b\b\b\b\b\b\b\b\b\b\b\b\b\b\b\b\b\b\b\b\b\b\b\b\b\b\b\b\b\b\b\b\b\b\b\b\b\b\b\b\b\b\b\b\b\b\b\b\b\b\b\b\b\b\b\b\b\b\b\b\b\b\b\b\b\b\b\b\b\b\b\b\b\b\b\b\b\b\b\b\b\b\b\b\b\b\b\b\b\b\b\b\b\b\b\b\b\b\b\b\b\b\b\b\b\b\b\b\b\b\b\b\b\b\b\b\b\b\b\b\b\b\b\b\b\b\b\b\b\b\b\b\b\b\b\r\u001b[1m37/37\u001b[0m \u001b[32m━━━━━━━━━━━━━━━━━━━━\u001b[0m\u001b[37m\u001b[0m \u001b[1m195s\u001b[0m 4s/step - clarity_accuracy: 0.4583 - clarity_loss: 1.0651 - confidence_accuracy: 0.4143 - confidence_loss: 1.0513 - energy_accuracy: 0.3878 - energy_loss: 1.0676 - loss: 5.2498 - persona_accuracy: 0.1302 - persona_loss: 2.0657 - val_clarity_accuracy: 0.4621 - val_clarity_loss: 1.0614 - val_confidence_accuracy: 0.4000 - val_confidence_loss: 1.0738 - val_energy_accuracy: 0.3966 - val_energy_loss: 1.0446 - val_loss: 5.2432 - val_persona_accuracy: 0.1207 - val_persona_loss: 2.0629\n",
            "Epoch 40/50\n",
            "\u001b[1m37/37\u001b[0m \u001b[32m━━━━━━━━━━━━━━━━━━━━\u001b[0m\u001b[37m\u001b[0m \u001b[1m194s\u001b[0m 4s/step - clarity_accuracy: 0.4660 - clarity_loss: 1.0608 - confidence_accuracy: 0.4133 - confidence_loss: 1.0523 - energy_accuracy: 0.4124 - energy_loss: 1.0530 - loss: 5.2229 - persona_accuracy: 0.1362 - persona_loss: 2.0565 - val_clarity_accuracy: 0.4621 - val_clarity_loss: 1.0612 - val_confidence_accuracy: 0.4000 - val_confidence_loss: 1.0736 - val_energy_accuracy: 0.3966 - val_energy_loss: 1.0442 - val_loss: 5.2432 - val_persona_accuracy: 0.1207 - val_persona_loss: 2.0625\n",
            "Epoch 41/50\n",
            "\u001b[1m37/37\u001b[0m \u001b[32m━━━━━━━━━━━━━━━━━━━━\u001b[0m\u001b[37m\u001b[0m \u001b[1m158s\u001b[0m 4s/step - clarity_accuracy: 0.4862 - clarity_loss: 1.0496 - confidence_accuracy: 0.3959 - confidence_loss: 1.0637 - energy_accuracy: 0.4092 - energy_loss: 1.0515 - loss: 5.2209 - persona_accuracy: 0.1436 - persona_loss: 2.0558 - val_clarity_accuracy: 0.4621 - val_clarity_loss: 1.0612 - val_confidence_accuracy: 0.4000 - val_confidence_loss: 1.0739 - val_energy_accuracy: 0.4000 - val_energy_loss: 1.0445 - val_loss: 5.2433 - val_persona_accuracy: 0.1207 - val_persona_loss: 2.0628\n",
            "Epoch 42/50\n",
            "\u001b[1m37/37\u001b[0m \u001b[32m━━━━━━━━━━━━━━━━━━━━\u001b[0m\u001b[37m\u001b[0m \u001b[1m220s\u001b[0m 5s/step - clarity_accuracy: 0.4477 - clarity_loss: 1.0716 - confidence_accuracy: 0.3966 - confidence_loss: 1.0525 - energy_accuracy: 0.3966 - energy_loss: 1.0607 - loss: 5.2490 - persona_accuracy: 0.1315 - persona_loss: 2.0646 - val_clarity_accuracy: 0.4621 - val_clarity_loss: 1.0613 - val_confidence_accuracy: 0.4000 - val_confidence_loss: 1.0741 - val_energy_accuracy: 0.4000 - val_energy_loss: 1.0447 - val_loss: 5.2433 - val_persona_accuracy: 0.1207 - val_persona_loss: 2.0629\n",
            "Epoch 43/50\n",
            "\u001b[1m37/37\u001b[0m \u001b[32m━━━━━━━━━━━━━━━━━━━━\u001b[0m\u001b[37m\u001b[0m \u001b[1m191s\u001b[0m 4s/step - clarity_accuracy: 0.4369 - clarity_loss: 1.0774 - confidence_accuracy: 0.4030 - confidence_loss: 1.0420 - energy_accuracy: 0.3808 - energy_loss: 1.0557 - loss: 5.2281 - persona_accuracy: 0.1300 - persona_loss: 2.0530 - val_clarity_accuracy: 0.4621 - val_clarity_loss: 1.0612 - val_confidence_accuracy: 0.4000 - val_confidence_loss: 1.0741 - val_energy_accuracy: 0.4000 - val_energy_loss: 1.0445 - val_loss: 5.2433 - val_persona_accuracy: 0.1207 - val_persona_loss: 2.0629\n",
            "Epoch 44/50\n",
            "\u001b[1m37/37\u001b[0m \u001b[32m━━━━━━━━━━━━━━━━━━━━\u001b[0m\u001b[37m\u001b[0m \u001b[1m202s\u001b[0m 4s/step - clarity_accuracy: 0.4567 - clarity_loss: 1.0660 - confidence_accuracy: 0.4272 - confidence_loss: 1.0586 - energy_accuracy: 0.3419 - energy_loss: 1.0511 - loss: 5.2364 - persona_accuracy: 0.1259 - persona_loss: 2.0603 - val_clarity_accuracy: 0.4621 - val_clarity_loss: 1.0613 - val_confidence_accuracy: 0.4000 - val_confidence_loss: 1.0741 - val_energy_accuracy: 0.4000 - val_energy_loss: 1.0446 - val_loss: 5.2433 - val_persona_accuracy: 0.1207 - val_persona_loss: 2.0629\n"
          ]
        },
        {
          "output_type": "stream",
          "name": "stderr",
          "text": [
            "WARNING:absl:You are saving your model as an HDF5 file via `model.save()` or `keras.saving.save_model(model)`. This file format is considered legacy. We recommend using instead the native Keras format, e.g. `model.save('my_model.keras')` or `keras.saving.save_model(model, 'my_model.keras')`. \n"
          ]
        },
        {
          "output_type": "stream",
          "name": "stdout",
          "text": [
            "\u001b[1m10/10\u001b[0m \u001b[32m━━━━━━━━━━━━━━━━━━━━\u001b[0m\u001b[37m\u001b[0m \u001b[1m7s\u001b[0m 598ms/step - clarity_accuracy: 0.4891 - clarity_loss: 1.0477 - confidence_accuracy: 0.3779 - confidence_loss: 1.0606 - energy_accuracy: 0.3630 - energy_loss: 1.0647 - loss: 5.2460 - persona_accuracy: 0.1478 - persona_loss: 2.0729\n"
          ]
        },
        {
          "output_type": "error",
          "ename": "ValueError",
          "evalue": "too many values to unpack (expected 5)",
          "traceback": [
            "\u001b[0;31m---------------------------------------------------------------------------\u001b[0m",
            "\u001b[0;31mValueError\u001b[0m                                Traceback (most recent call last)",
            "\u001b[0;32m/tmp/ipython-input-7-3653602703.py\u001b[0m in \u001b[0;36m<cell line: 0>\u001b[0;34m()\u001b[0m\n\u001b[1;32m     81\u001b[0m \u001b[0;34m\u001b[0m\u001b[0m\n\u001b[1;32m     82\u001b[0m \u001b[0;31m# ✅ Evaluate\u001b[0m\u001b[0;34m\u001b[0m\u001b[0;34m\u001b[0m\u001b[0m\n\u001b[0;32m---> 83\u001b[0;31m \u001b[0mloss\u001b[0m\u001b[0;34m,\u001b[0m \u001b[0macc_conf\u001b[0m\u001b[0;34m,\u001b[0m \u001b[0macc_energy\u001b[0m\u001b[0;34m,\u001b[0m \u001b[0macc_clarity\u001b[0m\u001b[0;34m,\u001b[0m \u001b[0macc_persona\u001b[0m \u001b[0;34m=\u001b[0m \u001b[0mmodel\u001b[0m\u001b[0;34m.\u001b[0m\u001b[0mevaluate\u001b[0m\u001b[0;34m(\u001b[0m\u001b[0mX_test\u001b[0m\u001b[0;34m,\u001b[0m \u001b[0my_test_split\u001b[0m\u001b[0;34m)\u001b[0m\u001b[0;34m\u001b[0m\u001b[0;34m\u001b[0m\u001b[0m\n\u001b[0m\u001b[1;32m     84\u001b[0m \u001b[0mprint\u001b[0m\u001b[0;34m(\u001b[0m\u001b[0;34m\"\\n🎯 Test Accuracies:\"\u001b[0m\u001b[0;34m)\u001b[0m\u001b[0;34m\u001b[0m\u001b[0;34m\u001b[0m\u001b[0m\n\u001b[1;32m     85\u001b[0m \u001b[0mprint\u001b[0m\u001b[0;34m(\u001b[0m\u001b[0;34mf\"   Confidence: {acc_conf:.2f}\"\u001b[0m\u001b[0;34m)\u001b[0m\u001b[0;34m\u001b[0m\u001b[0;34m\u001b[0m\u001b[0m\n",
            "\u001b[0;31mValueError\u001b[0m: too many values to unpack (expected 5)"
          ]
        }
      ]
    },
    {
      "cell_type": "code",
      "source": [
        "# ✅ STEP 1: Install Required Libraries (only if not done)\n",
        "!pip install librosa numpy tensorflow requests --quiet\n",
        "\n",
        "# ✅ STEP 2: Imports\n",
        "import numpy as np\n",
        "import librosa\n",
        "import requests\n",
        "import tempfile\n",
        "import os\n",
        "import pickle\n",
        "from tensorflow.keras.models import load_model\n",
        "\n",
        "# ✅ STEP 3: Feature Extractor\n",
        "def extract_features(file_path, max_pad_len=174):\n",
        "    try:\n",
        "        audio, sr = librosa.load(file_path, sr=None)\n",
        "        mfcc = librosa.feature.mfcc(y=audio, sr=sr, n_mfcc=40)\n",
        "        chroma = librosa.feature.chroma_stft(y=audio, sr=sr)\n",
        "        contrast = librosa.feature.spectral_contrast(y=audio, sr=sr)\n",
        "        delta = librosa.feature.delta(mfcc)\n",
        "\n",
        "        def pad(x): return np.pad(\n",
        "            x, ((0, 0), (0, max(0, max_pad_len - x.shape[1]))),\n",
        "            mode='constant'\n",
        "        )[:, :max_pad_len]\n",
        "\n",
        "        combined = np.vstack([pad(mfcc), pad(chroma), pad(contrast), pad(delta)])\n",
        "        return combined\n",
        "    except Exception as e:\n",
        "        print(\"❌ Feature extraction failed:\", e)\n",
        "        return None\n",
        "\n",
        "# ✅ STEP 4: Prediction Function\n",
        "def predict_persona_from_url(url, model, le_conf, le_energy, le_clarity, le_persona):\n",
        "    try:\n",
        "        response = requests.get(url)\n",
        "        if response.status_code != 200:\n",
        "            print(\"❌ Failed to download file.\")\n",
        "            return\n",
        "\n",
        "        # Save audio to temp file\n",
        "        with tempfile.NamedTemporaryFile(suffix=\".wav\", delete=False) as tmp_file:\n",
        "            tmp_file.write(response.content)\n",
        "            tmp_path = tmp_file.name\n",
        "\n",
        "        # Extract features\n",
        "        features = extract_features(tmp_path)\n",
        "        if features is None:\n",
        "            print(\"❌ Could not extract features.\")\n",
        "            return\n",
        "\n",
        "        # Preprocess input\n",
        "        X_input = features[np.newaxis, ..., np.newaxis]\n",
        "\n",
        "        # Predict\n",
        "        preds = model.predict(X_input)\n",
        "        conf = le_conf.inverse_transform([np.argmax(preds[0])])[0]\n",
        "        energy = le_energy.inverse_transform([np.argmax(preds[1])])[0]\n",
        "        clarity = le_clarity.inverse_transform([np.argmax(preds[2])])[0]\n",
        "        persona = le_persona.inverse_transform([np.argmax(preds[3])])[0]\n",
        "\n",
        "        print(\"\\n🔍 Prediction:\")\n",
        "        print(f\"🗣️  Confidence: {conf}\")\n",
        "        print(f\"⚡ Energy:     {energy}\")\n",
        "        print(f\"🔊 Clarity:    {clarity}\")\n",
        "        print(f\"🎭 Persona:    {persona}\")\n",
        "\n",
        "        os.remove(tmp_path)\n",
        "\n",
        "    except Exception as e:\n",
        "        print(\"❌ Error during prediction:\", e)\n",
        "\n",
        "# ✅ STEP 5: Load Model & Encoders\n",
        "model = load_model(\"persona_model_final.h5\")\n",
        "with open(\"encoders.pkl\", \"rb\") as f:\n",
        "    le_conf, le_energy, le_clarity, le_persona = pickle.load(f)\n",
        "\n",
        "# ✅ STEP 6: Provide Test URL\n",
        "test_url = \"https://github.com/harvitronix/five-minutes-a-day-ml/raw/master/datasets/audio/03-01-05-01-01-01-01.wav\"\n",
        "\n",
        "# ✅ STEP 7: Run Prediction\n",
        "predict_persona_from_url(\n",
        "    url=test_url,\n",
        "    model=model,\n",
        "    le_conf=le_conf,\n",
        "    le_energy=le_energy,\n",
        "    le_clarity=le_clarity,\n",
        "    le_persona=le_persona\n",
        ")"
      ],
      "metadata": {
        "colab": {
          "base_uri": "https://localhost:8080/"
        },
        "id": "lFDVXHqDifZJ",
        "outputId": "434f13df-3393-40d0-a27f-849f780da388"
      },
      "execution_count": null,
      "outputs": [
        {
          "output_type": "stream",
          "name": "stderr",
          "text": [
            "WARNING:absl:Compiled the loaded model, but the compiled metrics have yet to be built. `model.compile_metrics` will be empty until you train or evaluate the model.\n"
          ]
        },
        {
          "output_type": "stream",
          "name": "stdout",
          "text": [
            "❌ Failed to download file.\n"
          ]
        }
      ]
    },
    {
      "cell_type": "code",
      "source": [],
      "metadata": {
        "id": "iY8TInQh7gND"
      },
      "execution_count": null,
      "outputs": []
    },
    {
      "cell_type": "code",
      "source": [
        "# Evaluate and print each accuracy metric\n",
        "results = model.evaluate(X_test, y_test_split, verbose=0)\n",
        "\n",
        "print(\"\\n🎯 Test Accuracies:\")\n",
        "print(f\"   Confidence: {results[5]:.2f}\")\n",
        "print(f\"   Energy:     {results[6]:.2f}\")\n",
        "print(f\"   Clarity:    {results[7]:.2f}\")\n",
        "print(f\"   Persona:    {results[8]:.2f}\")\n"
      ],
      "metadata": {
        "colab": {
          "base_uri": "https://localhost:8080/"
        },
        "id": "5sVIISXVjZA4",
        "outputId": "da7e8021-af97-4aa2-cf96-60366c3f3cb1"
      },
      "execution_count": null,
      "outputs": [
        {
          "output_type": "stream",
          "name": "stdout",
          "text": [
            "\n",
            "🎯 Test Accuracies:\n",
            "   Confidence: 0.46\n",
            "   Energy:     0.40\n",
            "   Clarity:    0.40\n",
            "   Persona:    0.12\n"
          ]
        }
      ]
    },
    {
      "cell_type": "code",
      "source": [
        "# ✅ Install requirements (if needed in Colab)\n",
        "!pip install librosa --quiet\n",
        "\n",
        "# ✅ Imports\n",
        "import librosa\n",
        "import numpy as np\n",
        "import pickle\n",
        "from tensorflow.keras.models import load_model\n",
        "\n",
        "# ✅ Load model and encoders\n",
        "model = load_model(\"persona_model_final.h5\")\n",
        "with open(\"encoders.pkl\", \"rb\") as f:\n",
        "    le_conf, le_energy, le_clarity, le_persona = pickle.load(f)\n",
        "\n",
        "# ✅ Prediction function for local .wav file\n",
        "def predict_persona_from_local_file(file_path, model, le_conf, le_energy, le_clarity, le_persona):\n",
        "    try:\n",
        "        # Step 1: Load and extract features\n",
        "        audio, sr = librosa.load(file_path, sr=None)\n",
        "        mfcc = librosa.feature.mfcc(y=audio, sr=sr, n_mfcc=40)\n",
        "        chroma = librosa.feature.chroma_stft(y=audio, sr=sr)\n",
        "        contrast = librosa.feature.spectral_contrast(y=audio, sr=sr)\n",
        "        delta = librosa.feature.delta(mfcc)\n",
        "\n",
        "        def pad(x): return np.pad(x, ((0, 0), (0, max(0, 174 - x.shape[1]))), mode='constant')[:, :174]\n",
        "        features = np.vstack([pad(mfcc), pad(chroma), pad(contrast), pad(delta)])\n",
        "        features = features[np.newaxis, ..., np.newaxis]  # (1, 99, 174, 1)\n",
        "\n",
        "        # Step 2: Predict\n",
        "        preds = model.predict(features)\n",
        "        result = {\n",
        "            \"Confidence\": le_conf.inverse_transform([np.argmax(preds[0])])[0],\n",
        "            \"Energy\":     le_energy.inverse_transform([np.argmax(preds[1])])[0],\n",
        "            \"Clarity\":    le_clarity.inverse_transform([np.argmax(preds[2])])[0],\n",
        "            \"Persona\":    le_persona.inverse_transform([np.argmax(preds[3])])[0],\n",
        "        }\n",
        "        return result\n",
        "\n",
        "    except Exception as e:\n",
        "        print(f\"❌ Error: {e}\")\n",
        "        return None\n",
        "\n",
        "# ✅ Provide your .wav file path (update as needed)\n",
        "file_path = \"/content/drive/MyDrive/datasets/recording.wav\"  # Make sure this file exists\n",
        "\n",
        "# ✅ Run prediction\n",
        "result = predict_persona_from_local_file(\n",
        "    file_path=file_path,\n",
        "    model=model,\n",
        "    le_conf=le_conf,\n",
        "    le_energy=le_energy,\n",
        "    le_clarity=le_clarity,\n",
        "    le_persona=le_persona\n",
        ")\n",
        "\n",
        "# ✅ Show result\n",
        "print(\"\\n🎯 Predicted Traits:\")\n",
        "print(result)"
      ],
      "metadata": {
        "colab": {
          "base_uri": "https://localhost:8080/"
        },
        "id": "D5GKZOlk0a1h",
        "outputId": "22d0452a-863b-4d91-b00b-49dd535bdda3"
      },
      "execution_count": null,
      "outputs": [
        {
          "output_type": "stream",
          "name": "stderr",
          "text": [
            "WARNING:absl:Compiled the loaded model, but the compiled metrics have yet to be built. `model.compile_metrics` will be empty until you train or evaluate the model.\n"
          ]
        },
        {
          "output_type": "stream",
          "name": "stdout",
          "text": [
            "\u001b[1m1/1\u001b[0m \u001b[32m━━━━━━━━━━━━━━━━━━━━\u001b[0m\u001b[37m\u001b[0m \u001b[1m0s\u001b[0m 233ms/step\n",
            "\n",
            "🎯 Predicted Traits:\n",
            "{'Confidence': np.str_('Low'), 'Energy': np.str_('Low'), 'Clarity': np.str_('Clear'), 'Persona': np.str_('Energetic Doer')}\n"
          ]
        }
      ]
    },
    {
      "cell_type": "code",
      "source": [
        "from google.colab import files\n",
        "files.download(\"persona_model_final.h5\")\n",
        "files.download(\"encoders.pkl\")\n"
      ],
      "metadata": {
        "id": "hKB81U6X7ikq",
        "outputId": "d6f465ba-462e-4125-af7e-2adf11994ca7",
        "colab": {
          "base_uri": "https://localhost:8080/",
          "height": 34
        }
      },
      "execution_count": null,
      "outputs": [
        {
          "output_type": "display_data",
          "data": {
            "text/plain": [
              "<IPython.core.display.Javascript object>"
            ],
            "application/javascript": [
              "\n",
              "    async function download(id, filename, size) {\n",
              "      if (!google.colab.kernel.accessAllowed) {\n",
              "        return;\n",
              "      }\n",
              "      const div = document.createElement('div');\n",
              "      const label = document.createElement('label');\n",
              "      label.textContent = `Downloading \"${filename}\": `;\n",
              "      div.appendChild(label);\n",
              "      const progress = document.createElement('progress');\n",
              "      progress.max = size;\n",
              "      div.appendChild(progress);\n",
              "      document.body.appendChild(div);\n",
              "\n",
              "      const buffers = [];\n",
              "      let downloaded = 0;\n",
              "\n",
              "      const channel = await google.colab.kernel.comms.open(id);\n",
              "      // Send a message to notify the kernel that we're ready.\n",
              "      channel.send({})\n",
              "\n",
              "      for await (const message of channel.messages) {\n",
              "        // Send a message to notify the kernel that we're ready.\n",
              "        channel.send({})\n",
              "        if (message.buffers) {\n",
              "          for (const buffer of message.buffers) {\n",
              "            buffers.push(buffer);\n",
              "            downloaded += buffer.byteLength;\n",
              "            progress.value = downloaded;\n",
              "          }\n",
              "        }\n",
              "      }\n",
              "      const blob = new Blob(buffers, {type: 'application/binary'});\n",
              "      const a = document.createElement('a');\n",
              "      a.href = window.URL.createObjectURL(blob);\n",
              "      a.download = filename;\n",
              "      div.appendChild(a);\n",
              "      a.click();\n",
              "      div.remove();\n",
              "    }\n",
              "  "
            ]
          },
          "metadata": {}
        },
        {
          "output_type": "display_data",
          "data": {
            "text/plain": [
              "<IPython.core.display.Javascript object>"
            ],
            "application/javascript": [
              "download(\"download_0b1f81ab-f48d-48ca-a316-543aa372d853\", \"persona_model_final.h5\", 406828392)"
            ]
          },
          "metadata": {}
        },
        {
          "output_type": "display_data",
          "data": {
            "text/plain": [
              "<IPython.core.display.Javascript object>"
            ],
            "application/javascript": [
              "\n",
              "    async function download(id, filename, size) {\n",
              "      if (!google.colab.kernel.accessAllowed) {\n",
              "        return;\n",
              "      }\n",
              "      const div = document.createElement('div');\n",
              "      const label = document.createElement('label');\n",
              "      label.textContent = `Downloading \"${filename}\": `;\n",
              "      div.appendChild(label);\n",
              "      const progress = document.createElement('progress');\n",
              "      progress.max = size;\n",
              "      div.appendChild(progress);\n",
              "      document.body.appendChild(div);\n",
              "\n",
              "      const buffers = [];\n",
              "      let downloaded = 0;\n",
              "\n",
              "      const channel = await google.colab.kernel.comms.open(id);\n",
              "      // Send a message to notify the kernel that we're ready.\n",
              "      channel.send({})\n",
              "\n",
              "      for await (const message of channel.messages) {\n",
              "        // Send a message to notify the kernel that we're ready.\n",
              "        channel.send({})\n",
              "        if (message.buffers) {\n",
              "          for (const buffer of message.buffers) {\n",
              "            buffers.push(buffer);\n",
              "            downloaded += buffer.byteLength;\n",
              "            progress.value = downloaded;\n",
              "          }\n",
              "        }\n",
              "      }\n",
              "      const blob = new Blob(buffers, {type: 'application/binary'});\n",
              "      const a = document.createElement('a');\n",
              "      a.href = window.URL.createObjectURL(blob);\n",
              "      a.download = filename;\n",
              "      div.appendChild(a);\n",
              "      a.click();\n",
              "      div.remove();\n",
              "    }\n",
              "  "
            ]
          },
          "metadata": {}
        },
        {
          "output_type": "display_data",
          "data": {
            "text/plain": [
              "<IPython.core.display.Javascript object>"
            ],
            "application/javascript": [
              "download(\"download_06c35e5c-ec91-4752-ac6c-97d278ba62e0\", \"encoders.pkl\", 1333)"
            ]
          },
          "metadata": {}
        }
      ]
    }
  ]
}